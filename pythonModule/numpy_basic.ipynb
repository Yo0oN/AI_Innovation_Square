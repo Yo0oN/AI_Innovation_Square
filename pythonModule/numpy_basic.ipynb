{
 "cells": [
  {
   "cell_type": "markdown",
   "metadata": {},
   "source": [
    "# Numpy 배열(ndarray, n dimension array)\n",
    "### 숫자를 관리하는데 유용한 모듈"
   ]
  },
  {
   "cell_type": "code",
   "execution_count": 4,
   "metadata": {},
   "outputs": [],
   "source": [
    "import numpy as np\n",
    "# 아나콘다가아니라 다른곳에서 사용하면 pip install numpy로 설치#"
   ]
  },
  {
   "cell_type": "code",
   "execution_count": 2,
   "metadata": {},
   "outputs": [],
   "source": [
    "# 파이썬의 list : LinkedList로 구현되어있다.(불연속적) 동작속도가 느리다\n",
    "#            comma로 요소 구별. 서로 다른 자료형 사용 가능\n",
    "# numpy의 배열 (ndarray) : 연속된 메모리 구조, 동작속도가 빠르다.\n",
    "#            comma를 사용하지 않고 공백으로 요소 구별\n",
    "#            서로 같은 자료형을 사용해야 한다.(numpy는 다른)"
   ]
  },
  {
   "cell_type": "code",
   "execution_count": 4,
   "metadata": {},
   "outputs": [
    {
     "name": "stdout",
     "output_type": "stream",
     "text": [
      "<class 'list'>\n",
      "<class 'list'>\n",
      "[0 1 2 3 4 5]\n",
      "<class 'numpy.ndarray'>\n",
      "int32\n"
     ]
    }
   ],
   "source": [
    "# list\n",
    "list1 = [0, 1, 2, 3, 4, 5]\n",
    "print(list)\n",
    "print(type(list1))\n",
    "\n",
    "# numpy의 array\n",
    "a = np.array([0, 1, 2, 3, 4, 5])\n",
    "print(a)\n",
    "print(type(a))\n",
    "print(a.dtype)"
   ]
  },
  {
   "cell_type": "code",
   "execution_count": 6,
   "metadata": {},
   "outputs": [
    {
     "data": {
      "text/plain": [
       "dict_keys(['?', 0, 'byte', 'b', 1, 'ubyte', 'B', 2, 'short', 'h', 3, 'ushort', 'H', 4, 'i', 5, 'uint', 'I', 6, 'intp', 'p', 9, 'uintp', 'P', 10, 'long', 'l', 7, 'L', 8, 'longlong', 'q', 'ulonglong', 'Q', 'half', 'e', 23, 'f', 11, 'double', 'd', 12, 'longdouble', 'g', 13, 'cfloat', 'F', 14, 'cdouble', 'D', 15, 'clongdouble', 'G', 16, 'O', 17, 'S', 18, 'unicode', 'U', 19, 'void', 'V', 20, 'M', 21, 'm', 22, 'bool8', 'Bool', 'b1', 'int64', 'Int64', 'i8', 'uint64', 'Uint64', 'u8', 'float16', 'Float16', 'f2', 'float32', 'Float32', 'f4', 'float64', 'Float64', 'f8', 'complex64', 'Complex32', 'c8', 'complex128', 'Complex64', 'c16', 'object0', 'Object0', 'bytes0', 'Bytes0', 'str0', 'Str0', 'void0', 'Void0', 'datetime64', 'Datetime64', 'M8', 'timedelta64', 'Timedelta64', 'm8', 'int32', 'Int32', 'i4', 'uint32', 'UInt32', 'u4', 'UInt64', 'int16', 'Int16', 'i2', 'uint16', 'UInt16', 'u2', 'int8', 'Int8', 'i1', 'uint8', 'UInt8', 'u1', 'complex_', 'int0', 'uint0', 'single', 'csingle', 'singlecomplex', 'float_', 'intc', 'uintc', 'int_', 'longfloat', 'clongfloat', 'longcomplex', 'bool_', 'bytes_', 'string_', 'unicode_', 'object_', 'str_', 'int', 'float', 'complex', 'bool', 'object', 'str', 'bytes', 'a'])"
      ]
     },
     "execution_count": 6,
     "metadata": {},
     "output_type": "execute_result"
    }
   ],
   "source": [
    "# numpy의 dtype 객체의 종류\n",
    "np.sctypeDict.keys()"
   ]
  },
  {
   "cell_type": "code",
   "execution_count": 9,
   "metadata": {},
   "outputs": [
    {
     "name": "stdout",
     "output_type": "stream",
     "text": [
      "['0' '1' '2' '3' '4' '5.0' 'Hello']\n",
      "<class 'numpy.ndarray'>\n",
      "<U32\n"
     ]
    }
   ],
   "source": [
    "# int와 float --> float\n",
    "a = np.array([0, 1, 2, 3, 4, 5., 'Hello'])\n",
    "print(a)\n",
    "print(type(a)) # numpy.ndarray\n",
    "print(a.dtype)\n",
    "# <U32 -> < : 리틀엔디언 U : 유니코드, 32 : 최대문자32byte\n",
    "# 유니코드 인코딩 방식\n",
    "# 1. EUC-KR, CP949(Ms949) : 완성형, 한글 2바이트, 영문1바이트, 윈도우에서 사용\n",
    "# 2. UTF-8 : 조합형, 한글 3바이트, 영문1바이트, 리눅스에서 사용"
   ]
  },
  {
   "cell_type": "code",
   "execution_count": 12,
   "metadata": {},
   "outputs": [
    {
     "name": "stdout",
     "output_type": "stream",
     "text": [
      "['1.234' '3.123' '4.43526' '5' '7'] <U7\n",
      "[1.234   3.123   4.43526 5.      7.     ] float32\n",
      "[1 3 4 5 7] int32\n"
     ]
    }
   ],
   "source": [
    "# 배열의 데이터 타입 변환 astype\n",
    "a1 = np.array(['1.234', '3.123', '4.43526', '5', '7'])\n",
    "print(a1, a1.dtype)\n",
    "\n",
    "a2 = a1.astype('float32')\n",
    "print(a2, a2.dtype)\n",
    "\n",
    "a3 = a2.astype('int32')\n",
    "print(a3, a3.dtype)"
   ]
  },
  {
   "cell_type": "markdown",
   "metadata": {},
   "source": [
    "## 차원 (dimension, Rndk) 과 Shape\n",
    "* 차원 : 1, 2, 3차원, 첫 데이터까지의 대괄호의 갯수와 일치\n",
    "* shpae : 차원의 요소의 수, 튜플 형식\n",
    "1차원 Shape : (x, )\n",
    "2차원 Shape : (x, y), matrix 행렬\n",
    "3차원 Shape : (x, y, z)"
   ]
  },
  {
   "cell_type": "code",
   "execution_count": 19,
   "metadata": {},
   "outputs": [
    {
     "name": "stdout",
     "output_type": "stream",
     "text": [
      "[ 0  1  2  3  4  5  6  7  8  9 10 11] <class 'numpy.ndarray'>\n",
      "(12,)\n",
      "<class 'tuple'>\n",
      "12\n",
      "[2 3 4 5 6 7 8 9] <class 'numpy.ndarray'>\n",
      "(8,)\n"
     ]
    }
   ],
   "source": [
    "# 1차원 배열의 Shape\n",
    "# arange(start, end + 1, step)\n",
    "a = np.arange(12)\n",
    "print(a, type(a))\n",
    "print(a.shape) # (12, )\n",
    "\n",
    "t = a.shape\n",
    "print(type(t))\n",
    "print(a.shape[0])\n",
    "\n",
    "a2 = np.arange(2, 10)\n",
    "print(a2, type(a2))\n",
    "print(a2.shape)"
   ]
  },
  {
   "cell_type": "code",
   "execution_count": 23,
   "metadata": {},
   "outputs": [
    {
     "name": "stdout",
     "output_type": "stream",
     "text": [
      "[[0 1 2]\n",
      " [0 1 2]] <class 'numpy.ndarray'>\n",
      "(2, 3)\n",
      "[[0 1 2]\n",
      " [0 1 2]] <class 'numpy.ndarray'>\n",
      "(2, 3)\n"
     ]
    }
   ],
   "source": [
    "# 2차원 배열의 Shape : 행row(axis = 0)과 열column(axix)\n",
    "m = np.array([np.arange(3), np.arange(3)])\n",
    "print(m, type(m))\n",
    "print(m.shape)\n",
    "\n",
    "m = np.array([[0, 1, 2], [0, 1, 2]])\n",
    "print(m, type(m))\n",
    "print(m.shape)"
   ]
  },
  {
   "cell_type": "code",
   "execution_count": 6,
   "metadata": {},
   "outputs": [
    {
     "name": "stdout",
     "output_type": "stream",
     "text": [
      "[[[10 11 12]\n",
      "  [13 14 15]]\n",
      "\n",
      " [[20 21 22]\n",
      "  [23 24 25]]\n",
      "\n",
      " [[30 31 32]\n",
      "  [33 34 35]]] <class 'numpy.ndarray'>\n",
      "(3, 2, 3)\n",
      "3\n"
     ]
    }
   ],
   "source": [
    "# 3차원\n",
    "m = np.array([[[10, 11, 12], [13, 14, 15]], [[20, 21, 22], [23, 24, 25]], [[30, 31, 32], [33, 34, 35]]])\n",
    "print(m, type(m))\n",
    "print(m.shape)\n",
    "print(m.shape[2])"
   ]
  },
  {
   "cell_type": "code",
   "execution_count": 11,
   "metadata": {},
   "outputs": [
    {
     "data": {
      "text/plain": [
       "1.23"
      ]
     },
     "execution_count": 11,
     "metadata": {},
     "output_type": "execute_result"
    }
   ],
   "source": [
    "round(1.23456, 2)"
   ]
  },
  {
   "cell_type": "code",
   "execution_count": 14,
   "metadata": {},
   "outputs": [
    {
     "name": "stdout",
     "output_type": "stream",
     "text": [
      "[ 0  1  2  3  4  5  6  7  8  9 10 11]\n",
      "(12,)\n",
      "[[ 0  1  2  3]\n",
      " [ 4  5  6  7]\n",
      " [ 8  9 10 11]]\n",
      "(3, 4)\n"
     ]
    }
   ],
   "source": [
    "# 배열의 shape 바꾸기 : reshape()\n",
    "m1 = np.arange(12)\n",
    "print(m1)\n",
    "print(m1.shape)\n",
    "\n",
    "m2 = m1.reshape(3, 4)\n",
    "print(m2)\n",
    "print(m2.shape)"
   ]
  },
  {
   "cell_type": "code",
   "execution_count": 18,
   "metadata": {},
   "outputs": [
    {
     "name": "stdout",
     "output_type": "stream",
     "text": [
      "[ 0  1  2  3  4  5  6  7  8  9 10 11] (12,)\n",
      "[[ 0  1  2  3  4  5]\n",
      " [ 6  7  8  9 10 11]] (2, 6)\n",
      "[[ 0  1  2]\n",
      " [ 3  4  5]\n",
      " [ 6  7  8]\n",
      " [ 9 10 11]] (4, 3)\n"
     ]
    }
   ],
   "source": [
    "# -1을 사용한 reshape\n",
    "m1 = np.arange(12)\n",
    "print(m1, m1.shape)\n",
    "m2 = m1.reshape(-1, 6) # 행의 요소수를 자동으로 계산, 2\n",
    "print(m2, m2.shape)\n",
    "m3 = m1.reshape(4, -1) # 열의 요소수를 자동으로 계산, 3\n",
    "print(m3, m3.shape)"
   ]
  },
  {
   "cell_type": "code",
   "execution_count": 20,
   "metadata": {},
   "outputs": [
    {
     "name": "stdout",
     "output_type": "stream",
     "text": [
      "[ 0  1  2  3  4  5  6  7  8  9 10 11] (12,)\n",
      "0 1\n",
      "[2 3 4 5 6 7]\n",
      "10\n"
     ]
    }
   ],
   "source": [
    "# 배열의 인덱싱과 슬라이싱\n",
    "# 1차원 배열의 인덱싱과 슬라이싱 : list와 동일함\n",
    "d = np.arange(12)\n",
    "print(d, d.shape) # [0 1 2 ...] (12, )\n",
    "print(d[0], d[1])\n",
    "print(d[2:8])\n",
    "d[0] = 10\n",
    "print(d[0])"
   ]
  },
  {
   "cell_type": "code",
   "execution_count": 29,
   "metadata": {},
   "outputs": [
    {
     "name": "stdout",
     "output_type": "stream",
     "text": [
      "[[ 0  1  2  3]\n",
      " [ 4  5  6  7]\n",
      " [ 8  9 10 11]]\n",
      "0\n",
      "0\n",
      "[0 1 2 3]\n",
      "[0 1 2 3]\n",
      "[[ 0  1  2]\n",
      " [ 4  5  6]\n",
      " [ 8  9 10]]\n"
     ]
    }
   ],
   "source": [
    "# 2차원 배열의 인덱싱과 슬라이싱\n",
    "# data[행, 열]\n",
    "m2 = np.arange(12).reshape(3, 4)\n",
    "print(m2)\n",
    "# 인덱싱\n",
    "print(m2[0][0])\n",
    "print(m2[0,0])\n",
    "# 슬라이싱\n",
    "print(m2[0])\n",
    "print(m2[0,:])\n",
    "print(m2[:,:-1])"
   ]
  },
  {
   "cell_type": "code",
   "execution_count": 33,
   "metadata": {},
   "outputs": [
    {
     "name": "stdout",
     "output_type": "stream",
     "text": [
      "[[[ 0  1  2]\n",
      "  [ 3  4  5]]\n",
      "\n",
      " [[ 6  7  8]\n",
      "  [ 9 10 11]]] (2, 2, 3)\n",
      "0\n",
      "0\n",
      "5\n",
      "[[[ 0  1  2]\n",
      "  [ 3  4  5]]\n",
      "\n",
      " [[ 6  7  8]\n",
      "  [ 9 10 11]]]\n"
     ]
    }
   ],
   "source": [
    "# 3차원 배열의 인덱싱과  슬라이싱\n",
    "# data[면, 행, 열]\n",
    "m3 = np.arange(12).reshape(2, 2, 3)\n",
    "print(m3, m3.shape)\n",
    "\n",
    "# 인덱싱\n",
    "print(m3[0][0][0]) # 사용잘안함\n",
    "print(m3[0, 0, 0])\n",
    "print(m3[0, 1, 2])\n",
    "print(m3[:, :, :])"
   ]
  },
  {
   "cell_type": "code",
   "execution_count": 38,
   "metadata": {},
   "outputs": [
    {
     "name": "stdout",
     "output_type": "stream",
     "text": [
      "[1 2 3 4 5 6]\n",
      "[False False  True  True  True  True]\n",
      "[3 4 5 6]\n",
      "[ True False  True False  True  True]\n",
      "[1 3 5 6]\n"
     ]
    }
   ],
   "source": [
    "# 불린 인덱싱 : 조건을 사용한 인덱싱, 조건 검색 필터를 사용한 추출\n",
    "a = np.array([1, 2, 3, 4, 5, 6])\n",
    "print(a)\n",
    "print(a > 2)\n",
    "print(a[a > 2])\n",
    "\n",
    "boolean_index = np.array([True, False, True, False, True, True])\n",
    "print(boolean_index)\n",
    "print(a[boolean_index])"
   ]
  },
  {
   "cell_type": "code",
   "execution_count": null,
   "metadata": {},
   "outputs": [],
   "source": []
  }
 ],
 "metadata": {
  "kernelspec": {
   "display_name": "Python 3",
   "language": "python",
   "name": "python3"
  },
  "language_info": {
   "codemirror_mode": {
    "name": "ipython",
    "version": 3
   },
   "file_extension": ".py",
   "mimetype": "text/x-python",
   "name": "python",
   "nbconvert_exporter": "python",
   "pygments_lexer": "ipython3",
   "version": "3.7.6"
  }
 },
 "nbformat": 4,
 "nbformat_minor": 4
}
