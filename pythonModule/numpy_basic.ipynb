{
 "cells": [
  {
   "cell_type": "markdown",
   "metadata": {},
   "source": [
    "# Numpy 배열(ndarray, n dimension array)\n",
    "### 숫자를 관리하는데 유용한 모듈"
   ]
  },
  {
   "cell_type": "code",
   "execution_count": 2,
   "metadata": {},
   "outputs": [],
   "source": [
    "import numpy as np\n",
    "# 아나콘다가아니라 다른곳에서 사용하면 pip install numpy로 설치#"
   ]
  },
  {
   "cell_type": "code",
   "execution_count": 2,
   "metadata": {},
   "outputs": [],
   "source": [
    "# 파이썬의 list : LinkedList로 구현되어있다.(불연속적) 동작속도가 느리다\n",
    "#            comma로 요소 구별. 서로 다른 자료형 사용 가능\n",
    "# numpy의 배열 (ndarray) : 연속된 메모리 구조, 동작속도가 빠르다.\n",
    "#            comma를 사용하지 않고 공백으로 요소 구별\n",
    "#            서로 같은 자료형을 사용해야 한다.(numpy는 다른)"
   ]
  },
  {
   "cell_type": "code",
   "execution_count": 4,
   "metadata": {},
   "outputs": [
    {
     "name": "stdout",
     "output_type": "stream",
     "text": [
      "<class 'list'>\n",
      "<class 'list'>\n",
      "[0 1 2 3 4 5]\n",
      "<class 'numpy.ndarray'>\n",
      "int32\n"
     ]
    }
   ],
   "source": [
    "# list\n",
    "list1 = [0, 1, 2, 3, 4, 5]\n",
    "print(list)\n",
    "print(type(list1))\n",
    "\n",
    "# numpy의 array\n",
    "a = np.array([0, 1, 2, 3, 4, 5])\n",
    "print(a)\n",
    "print(type(a))\n",
    "print(a.dtype)"
   ]
  },
  {
   "cell_type": "code",
   "execution_count": 6,
   "metadata": {},
   "outputs": [
    {
     "data": {
      "text/plain": [
       "dict_keys(['?', 0, 'byte', 'b', 1, 'ubyte', 'B', 2, 'short', 'h', 3, 'ushort', 'H', 4, 'i', 5, 'uint', 'I', 6, 'intp', 'p', 9, 'uintp', 'P', 10, 'long', 'l', 7, 'L', 8, 'longlong', 'q', 'ulonglong', 'Q', 'half', 'e', 23, 'f', 11, 'double', 'd', 12, 'longdouble', 'g', 13, 'cfloat', 'F', 14, 'cdouble', 'D', 15, 'clongdouble', 'G', 16, 'O', 17, 'S', 18, 'unicode', 'U', 19, 'void', 'V', 20, 'M', 21, 'm', 22, 'bool8', 'Bool', 'b1', 'int64', 'Int64', 'i8', 'uint64', 'Uint64', 'u8', 'float16', 'Float16', 'f2', 'float32', 'Float32', 'f4', 'float64', 'Float64', 'f8', 'complex64', 'Complex32', 'c8', 'complex128', 'Complex64', 'c16', 'object0', 'Object0', 'bytes0', 'Bytes0', 'str0', 'Str0', 'void0', 'Void0', 'datetime64', 'Datetime64', 'M8', 'timedelta64', 'Timedelta64', 'm8', 'int32', 'Int32', 'i4', 'uint32', 'UInt32', 'u4', 'UInt64', 'int16', 'Int16', 'i2', 'uint16', 'UInt16', 'u2', 'int8', 'Int8', 'i1', 'uint8', 'UInt8', 'u1', 'complex_', 'int0', 'uint0', 'single', 'csingle', 'singlecomplex', 'float_', 'intc', 'uintc', 'int_', 'longfloat', 'clongfloat', 'longcomplex', 'bool_', 'bytes_', 'string_', 'unicode_', 'object_', 'str_', 'int', 'float', 'complex', 'bool', 'object', 'str', 'bytes', 'a'])"
      ]
     },
     "execution_count": 6,
     "metadata": {},
     "output_type": "execute_result"
    }
   ],
   "source": [
    "# numpy의 dtype 객체의 종류\n",
    "np.sctypeDict.keys()"
   ]
  },
  {
   "cell_type": "code",
   "execution_count": 9,
   "metadata": {},
   "outputs": [
    {
     "name": "stdout",
     "output_type": "stream",
     "text": [
      "['0' '1' '2' '3' '4' '5.0' 'Hello']\n",
      "<class 'numpy.ndarray'>\n",
      "<U32\n"
     ]
    }
   ],
   "source": [
    "# int와 float --> float\n",
    "a = np.array([0, 1, 2, 3, 4, 5., 'Hello'])\n",
    "print(a)\n",
    "print(type(a)) # numpy.ndarray\n",
    "print(a.dtype)\n",
    "# <U32 -> < : 리틀엔디언 U : 유니코드, 32 : 최대문자32byte\n",
    "# 유니코드 인코딩 방식\n",
    "# 1. EUC-KR, CP949(Ms949) : 완성형, 한글 2바이트, 영문1바이트, 윈도우에서 사용\n",
    "# 2. UTF-8 : 조합형, 한글 3바이트, 영문1바이트, 리눅스에서 사용"
   ]
  },
  {
   "cell_type": "code",
   "execution_count": 12,
   "metadata": {},
   "outputs": [
    {
     "name": "stdout",
     "output_type": "stream",
     "text": [
      "['1.234' '3.123' '4.43526' '5' '7'] <U7\n",
      "[1.234   3.123   4.43526 5.      7.     ] float32\n",
      "[1 3 4 5 7] int32\n"
     ]
    }
   ],
   "source": [
    "# 배열의 데이터 타입 변환 astype\n",
    "a1 = np.array(['1.234', '3.123', '4.43526', '5', '7'])\n",
    "print(a1, a1.dtype)\n",
    "\n",
    "a2 = a1.astype('float32')\n",
    "print(a2, a2.dtype)\n",
    "\n",
    "a3 = a2.astype('int32')\n",
    "print(a3, a3.dtype)"
   ]
  },
  {
   "cell_type": "markdown",
   "metadata": {},
   "source": [
    "## 차원 (dimension, Rndk) 과 Shape\n",
    "* 차원 : 1, 2, 3차원, 첫 데이터까지의 대괄호의 갯수와 일치\n",
    "* shpae : 차원의 요소의 수, 튜플 형식\n",
    "1차원 Shape : (x, )\n",
    "2차원 Shape : (x, y), matrix 행렬\n",
    "3차원 Shape : (x, y, z)"
   ]
  },
  {
   "cell_type": "code",
   "execution_count": 19,
   "metadata": {},
   "outputs": [
    {
     "name": "stdout",
     "output_type": "stream",
     "text": [
      "[ 0  1  2  3  4  5  6  7  8  9 10 11] <class 'numpy.ndarray'>\n",
      "(12,)\n",
      "<class 'tuple'>\n",
      "12\n",
      "[2 3 4 5 6 7 8 9] <class 'numpy.ndarray'>\n",
      "(8,)\n"
     ]
    }
   ],
   "source": [
    "# 1차원 배열의 Shape\n",
    "# arange(start, end + 1, step)\n",
    "a = np.arange(12)\n",
    "print(a, type(a))\n",
    "print(a.shape) # (12, )\n",
    "\n",
    "t = a.shape\n",
    "print(type(t))\n",
    "print(a.shape[0])\n",
    "\n",
    "a2 = np.arange(2, 10)\n",
    "print(a2, type(a2))\n",
    "print(a2.shape)"
   ]
  },
  {
   "cell_type": "code",
   "execution_count": 23,
   "metadata": {},
   "outputs": [
    {
     "name": "stdout",
     "output_type": "stream",
     "text": [
      "[[0 1 2]\n",
      " [0 1 2]] <class 'numpy.ndarray'>\n",
      "(2, 3)\n",
      "[[0 1 2]\n",
      " [0 1 2]] <class 'numpy.ndarray'>\n",
      "(2, 3)\n"
     ]
    }
   ],
   "source": [
    "# 2차원 배열의 Shape : 행row(axis = 0)과 열column(axix)\n",
    "m = np.array([np.arange(3), np.arange(3)])\n",
    "print(m, type(m))\n",
    "print(m.shape)\n",
    "\n",
    "m = np.array([[0, 1, 2], [0, 1, 2]])\n",
    "print(m, type(m))\n",
    "print(m.shape)"
   ]
  },
  {
   "cell_type": "code",
   "execution_count": 6,
   "metadata": {},
   "outputs": [
    {
     "name": "stdout",
     "output_type": "stream",
     "text": [
      "[[[10 11 12]\n",
      "  [13 14 15]]\n",
      "\n",
      " [[20 21 22]\n",
      "  [23 24 25]]\n",
      "\n",
      " [[30 31 32]\n",
      "  [33 34 35]]] <class 'numpy.ndarray'>\n",
      "(3, 2, 3)\n",
      "3\n"
     ]
    }
   ],
   "source": [
    "# 3차원\n",
    "m = np.array([[[10, 11, 12], [13, 14, 15]], [[20, 21, 22], [23, 24, 25]], [[30, 31, 32], [33, 34, 35]]])\n",
    "print(m, type(m))\n",
    "print(m.shape)\n",
    "print(m.shape[2])"
   ]
  },
  {
   "cell_type": "code",
   "execution_count": 11,
   "metadata": {},
   "outputs": [
    {
     "data": {
      "text/plain": [
       "1.23"
      ]
     },
     "execution_count": 11,
     "metadata": {},
     "output_type": "execute_result"
    }
   ],
   "source": [
    "round(1.23456, 2)"
   ]
  },
  {
   "cell_type": "code",
   "execution_count": 14,
   "metadata": {},
   "outputs": [
    {
     "name": "stdout",
     "output_type": "stream",
     "text": [
      "[ 0  1  2  3  4  5  6  7  8  9 10 11]\n",
      "(12,)\n",
      "[[ 0  1  2  3]\n",
      " [ 4  5  6  7]\n",
      " [ 8  9 10 11]]\n",
      "(3, 4)\n"
     ]
    }
   ],
   "source": [
    "# 배열의 shape 바꾸기 : reshape()\n",
    "m1 = np.arange(12)\n",
    "print(m1)\n",
    "print(m1.shape)\n",
    "\n",
    "m2 = m1.reshape(3, 4)\n",
    "print(m2)\n",
    "print(m2.shape)"
   ]
  },
  {
   "cell_type": "code",
   "execution_count": 18,
   "metadata": {},
   "outputs": [
    {
     "name": "stdout",
     "output_type": "stream",
     "text": [
      "[ 0  1  2  3  4  5  6  7  8  9 10 11] (12,)\n",
      "[[ 0  1  2  3  4  5]\n",
      " [ 6  7  8  9 10 11]] (2, 6)\n",
      "[[ 0  1  2]\n",
      " [ 3  4  5]\n",
      " [ 6  7  8]\n",
      " [ 9 10 11]] (4, 3)\n"
     ]
    }
   ],
   "source": [
    "# -1을 사용한 reshape\n",
    "m1 = np.arange(12)\n",
    "print(m1, m1.shape)\n",
    "m2 = m1.reshape(-1, 6) # 행의 요소수를 자동으로 계산, 2\n",
    "print(m2, m2.shape)\n",
    "m3 = m1.reshape(4, -1) # 열의 요소수를 자동으로 계산, 3\n",
    "print(m3, m3.shape)"
   ]
  },
  {
   "cell_type": "code",
   "execution_count": 20,
   "metadata": {},
   "outputs": [
    {
     "name": "stdout",
     "output_type": "stream",
     "text": [
      "[ 0  1  2  3  4  5  6  7  8  9 10 11] (12,)\n",
      "0 1\n",
      "[2 3 4 5 6 7]\n",
      "10\n"
     ]
    }
   ],
   "source": [
    "# 배열의 인덱싱과 슬라이싱\n",
    "# 1차원 배열의 인덱싱과 슬라이싱 : list와 동일함\n",
    "d = np.arange(12)\n",
    "print(d, d.shape) # [0 1 2 ...] (12, )\n",
    "print(d[0], d[1])\n",
    "print(d[2:8])\n",
    "d[0] = 10\n",
    "print(d[0])"
   ]
  },
  {
   "cell_type": "code",
   "execution_count": 29,
   "metadata": {},
   "outputs": [
    {
     "name": "stdout",
     "output_type": "stream",
     "text": [
      "[[ 0  1  2  3]\n",
      " [ 4  5  6  7]\n",
      " [ 8  9 10 11]]\n",
      "0\n",
      "0\n",
      "[0 1 2 3]\n",
      "[0 1 2 3]\n",
      "[[ 0  1  2]\n",
      " [ 4  5  6]\n",
      " [ 8  9 10]]\n"
     ]
    }
   ],
   "source": [
    "# 2차원 배열의 인덱싱과 슬라이싱\n",
    "# data[행, 열]\n",
    "m2 = np.arange(12).reshape(3, 4)\n",
    "print(m2)\n",
    "# 인덱싱\n",
    "print(m2[0][0])\n",
    "print(m2[0,0])\n",
    "# 슬라이싱\n",
    "print(m2[0])\n",
    "print(m2[0,:])\n",
    "print(m2[:,:-1])"
   ]
  },
  {
   "cell_type": "code",
   "execution_count": 33,
   "metadata": {},
   "outputs": [
    {
     "name": "stdout",
     "output_type": "stream",
     "text": [
      "[[[ 0  1  2]\n",
      "  [ 3  4  5]]\n",
      "\n",
      " [[ 6  7  8]\n",
      "  [ 9 10 11]]] (2, 2, 3)\n",
      "0\n",
      "0\n",
      "5\n",
      "[[[ 0  1  2]\n",
      "  [ 3  4  5]]\n",
      "\n",
      " [[ 6  7  8]\n",
      "  [ 9 10 11]]]\n"
     ]
    }
   ],
   "source": [
    "# 3차원 배열의 인덱싱과  슬라이싱\n",
    "# data[면, 행, 열]\n",
    "m3 = np.arange(12).reshape(2, 2, 3)\n",
    "print(m3, m3.shape)\n",
    "\n",
    "# 인덱싱\n",
    "print(m3[0][0][0]) # 사용잘안함\n",
    "print(m3[0, 0, 0])\n",
    "print(m3[0, 1, 2])\n",
    "print(m3[:, :, :])"
   ]
  },
  {
   "cell_type": "code",
   "execution_count": 38,
   "metadata": {},
   "outputs": [
    {
     "name": "stdout",
     "output_type": "stream",
     "text": [
      "[1 2 3 4 5 6]\n",
      "[False False  True  True  True  True]\n",
      "[3 4 5 6]\n",
      "[ True False  True False  True  True]\n",
      "[1 3 5 6]\n"
     ]
    }
   ],
   "source": [
    "# 불린 인덱싱 : 조건을 사용한 인덱싱, 조건 검색 필터를 사용한 추출\n",
    "a = np.array([1, 2, 3, 4, 5, 6])\n",
    "print(a)\n",
    "print(a > 2)\n",
    "print(a[a > 2])\n",
    "\n",
    "boolean_index = np.array([True, False, True, False, True, True])\n",
    "print(boolean_index)\n",
    "print(a[boolean_index])"
   ]
  },
  {
   "cell_type": "markdown",
   "metadata": {},
   "source": [
    "## 배열의 형상 다루기 : reshape(), 편평화(flatten()), 전치(transpose())"
   ]
  },
  {
   "cell_type": "code",
   "execution_count": 20,
   "metadata": {},
   "outputs": [
    {
     "name": "stdout",
     "output_type": "stream",
     "text": [
      "[[ 0  1  2  3]\n",
      " [ 4  5  6  7]\n",
      " [ 8  9 10 11]] (3, 4)\n",
      "[ 0  1  2  3  4  5  6  7  8  9 10 11] (12,)\n",
      "[[ 8  9 10 11]\n",
      " [ 4  5  6  7]\n",
      " [ 0  1  2  3]]\n",
      "[[ 3  2  1  0]\n",
      " [ 7  6  5  4]\n",
      " [11 10  9  8]]\n",
      "[[11 10  9  8]\n",
      " [ 7  6  5  4]\n",
      " [ 3  2  1  0]]\n",
      "[[ 0  4  8]\n",
      " [ 1  5  9]\n",
      " [ 2  6 10]\n",
      " [ 3  7 11]] (4, 3)\n",
      "[[ 0  4  8]\n",
      " [ 1  5  9]\n",
      " [ 2  6 10]\n",
      " [ 3  7 11]]\n",
      "[[0 0 0 0]\n",
      " [0 0 0 0]\n",
      " [0 0 0 0]]\n",
      "<numpy.flatiter object at 0x000001A9B1E3AD70>\n"
     ]
    }
   ],
   "source": [
    "# flatten() : 다차원 배열을 1차원으로 만든다.\n",
    "d = np.arange(12).reshape(3, 4)\n",
    "print(d, d.shape)\n",
    "f = d.flatten()\n",
    "print(f, f.shape)\n",
    "\n",
    "print(d[::-1]) # 행의 순서를 거꾸로 변경\n",
    "print(d[:, ::-1]) # 열의 순서를 거꾸로 변경\n",
    "print(d[::-1, ::-1]) # 행과 열의 순서를 거꾸로 변경\n",
    "\n",
    "# transpose() 전치 행렬, 행과 열을 서로 맞바꾼다.\n",
    "t = d.transpose()\n",
    "print(t, t.shape)\n",
    "\n",
    "print(d.T)\n",
    "\n",
    "# 임시로 1차원으로 변경하여 데이터를 채우고 원래의 shape을 가진다.\n",
    "d.flat = 0\n",
    "print(d)\n",
    "\n",
    "print(d.flat)"
   ]
  },
  {
   "cell_type": "markdown",
   "metadata": {},
   "source": [
    "## fancy 인덱싱 : 리스트나 배열로 임의의 집합을 지정하여 인덱싱.(멋대로 내키는대로 인덱싱)"
   ]
  },
  {
   "cell_type": "code",
   "execution_count": 11,
   "metadata": {},
   "outputs": [
    {
     "name": "stdout",
     "output_type": "stream",
     "text": [
      "[1 2 3 4 5 6] (6,)\n",
      "[2 4 6 3]\n",
      "[1 6 4 5]\n"
     ]
    }
   ],
   "source": [
    "# 1차원 배열의 fancy 인덱싱\n",
    "a = np.arange(1, 7)\n",
    "print(a, a.shape)\n",
    "print(a[[1, 3, 5, 2]])\n",
    "print(a[[0, -1, -3, -2]])"
   ]
  },
  {
   "cell_type": "code",
   "execution_count": 24,
   "metadata": {},
   "outputs": [
    {
     "name": "stdout",
     "output_type": "stream",
     "text": [
      "[[10 20 30]\n",
      " [40 50 60]\n",
      " [70 80 90]] (3, 3)\n",
      "[10 80]\n",
      "[[10 20]\n",
      " [70 80]]\n",
      "[10, 80]\n"
     ]
    }
   ],
   "source": [
    "# 2차원 배열의 fancy 인덱싱\n",
    "a = np.arange(10, 100, 10).reshape(3, 3)\n",
    "print(a, a.shape)\n",
    "print(a[[0, 2], [0, 1]])\n",
    "print(a[[0, 2], :2])\n",
    "print([a[0, 0], a[2, 1]])"
   ]
  },
  {
   "cell_type": "markdown",
   "metadata": {},
   "source": [
    "## NumPy의 속성"
   ]
  },
  {
   "cell_type": "code",
   "execution_count": 26,
   "metadata": {
    "scrolled": true
   },
   "outputs": [
    {
     "name": "stdout",
     "output_type": "stream",
     "text": [
      "[[ 0  1  2  3]\n",
      " [ 4  5  6  7]\n",
      " [ 8  9 10 11]] (3, 4)\n",
      "int32\n",
      "2 2\n",
      "[[ 0  4  8]\n",
      " [ 1  5  9]\n",
      " [ 2  6 10]\n",
      " [ 3  7 11]]\n",
      "48\n",
      "12\n",
      "[[1 1 1 1]\n",
      " [1 1 1 1]\n",
      " [1 1 1 1]]\n"
     ]
    }
   ],
   "source": [
    "d = np.arange(12).reshape(3, 4)\n",
    "print(d, d.shape)\n",
    "print(d.dtype)\n",
    "print(d.ndim, len(d.shape))\n",
    "print(d.T) # transpose() 함수와 동일한 결과\n",
    "print(d.nbytes) # 4bytes * 12\n",
    "print(d.size) # 데이터의 갯수\n",
    "d.flat = 1\n",
    "print(d)\n"
   ]
  },
  {
   "cell_type": "markdown",
   "metadata": {},
   "source": [
    "## Numpy의 통계 함수들"
   ]
  },
  {
   "cell_type": "code",
   "execution_count": 38,
   "metadata": {},
   "outputs": [
    {
     "name": "stdout",
     "output_type": "stream",
     "text": [
      "[[ 0  1  2  3]\n",
      " [ 4  5  6  7]\n",
      " [ 8  9 10 11]] (3, 4)\n",
      "11\n",
      "11\n",
      "0 0\n",
      "66 66\n",
      "5.5 5.5\n",
      "3.452052529534663 3.452052529534663\n",
      "11.916666666666666 11.916666666666666\n",
      "5.5\n",
      "25% : 2.75\n",
      "50% : 5.5\n",
      "75% : 8.25\n"
     ]
    }
   ],
   "source": [
    "a = np.arange(12).reshape(3, 4)\n",
    "print(a, a.shape)\n",
    "\n",
    "print(a.max()) # 최대값\n",
    "print(np.max(a)) # 최대값 위와 같은뜻\n",
    "print(a.min(), np.min(a)) # 최소값\n",
    "print(a.sum(), np.sum(a)) # 합\n",
    "print(a.mean(), np.mean(a)) # 평균\n",
    "print(a.std(), np.std(a)) # 표준편차\n",
    "print(a.var(), np.var(a)) # 분산\n",
    "print(np.median(a)) # 중위수 이건 방법이 하나밖에 없음\n",
    "print('25% :', np.percentile(a, 25)) # 1 사분위수(Q1)\n",
    "print('50% :', np.percentile(a, 50)) # 2사분위수(Q2) median과 같은 값\n",
    "print('75% :', np.percentile(a, 75)) # 3 사분위수(Q3)"
   ]
  },
  {
   "cell_type": "code",
   "execution_count": 49,
   "metadata": {},
   "outputs": [
    {
     "name": "stdout",
     "output_type": "stream",
     "text": [
      "[[ 0  1  2  3]\n",
      " [ 4  5  6  7]\n",
      " [ 8  9 10 11]] (3, 4)\n",
      "66\n",
      "[ 8  9 10 11]\n",
      "[ 6 22 38]\n",
      "66\n"
     ]
    }
   ],
   "source": [
    "# axis\n",
    "a = np.arange(12).reshape(3, 4)\n",
    "print(a, a.shape)\n",
    "print(a.sum())\n",
    "print(a.sum(axis = 0)) # axis = 0은 행이다. 같은 열끼리 더한것이다.\n",
    "print(a.sum(axis = 1)) # axis = 1은 열이다. 같은 행끼리 더한것이다.\n",
    "print(a.sum(axis = None))"
   ]
  },
  {
   "cell_type": "code",
   "execution_count": 57,
   "metadata": {},
   "outputs": [
    {
     "name": "stdout",
     "output_type": "stream",
     "text": [
      "[9 2 8 3 1 4 5 6] (8,)\n",
      "[1 2 3 4 5 6 8 9] (8,)\n",
      "None\n",
      "[1 2 3 4 5 6 8 9]\n",
      "[9 8 6 5 4 3 2 1]\n"
     ]
    }
   ],
   "source": [
    "# sort() 함수\n",
    "a = np.array([9, 2, 8, 3, 1, 4, 5, 6])\n",
    "print(a, a.shape)\n",
    "b = np.sort(a)\n",
    "print(b, b.shape)\n",
    "c = a.sort()\n",
    "print(c)\n",
    "print(a)\n",
    "d = np.sort(a)[::-1] # 내림차순 : 오름차순 정렬 후 사용해야 한다.\n",
    "print(d)"
   ]
  },
  {
   "cell_type": "code",
   "execution_count": 61,
   "metadata": {},
   "outputs": [
    {
     "name": "stdout",
     "output_type": "stream",
     "text": [
      "[9 2 8 3 1 4 5 6] (8,)\n",
      "<class 'numpy.ndarray'> [4 1 3 5 6 7 2 0]\n",
      "[9 2 8 3 1 4 5 6]\n"
     ]
    }
   ],
   "source": [
    "# argsort() 함수 sort 된 후 해당 값이 원래 있던곳의 인덱스를 알려준다.\n",
    "a = np.array([9, 2, 8, 3, 1, 4, 5, 6])\n",
    "print(a, a.shape)\n",
    "\n",
    "sort_index = np.argsort(a)\n",
    "print(type(sort_index), sort_index)\n",
    "print(a)"
   ]
  },
  {
   "cell_type": "code",
   "execution_count": 79,
   "metadata": {},
   "outputs": [
    {
     "data": {
      "image/png": "[encoded data removed]",
      "text/plain": [
       "<Figure size 432x288 with 3 Axes>"
      ]
     },
     "metadata": {
      "needs_background": "light"
     },
     "output_type": "display_data"
    }
   ],
   "source": [
    "# view : 원본 객체와 메모리를 공유하는 사본\n",
    "# copy : 원본 객체와 다른 별도의 메모리를 사용하는 사본\n",
    "import scipy.misc\n",
    "import matplotlib.pyplot as plt # 그림그래프를 그려줌. 시각화\n",
    "\n",
    "face = scipy.misc.face() # Read Only 용\n",
    "face2 = face.copy() # 별도의 메모리에 사본을 생성\n",
    "\n",
    "f_view = face2.view()\n",
    "f_copy = face.copy()\n",
    "\n",
    "# print(type(face)) # ndarray\n",
    "# print(face.shape) #(768, 1024, 3) (y, x, rgb)\n",
    "# print(face.nbytes/1024) # 2.3 mega\n",
    "# print(face)\n",
    "# f_copy.flat = 0 # copy본이기 때문에 원본과 view에는 변화가 없음\n",
    "# flat : rgb 값을 뜻함\n",
    "f_view.flat = 0 # view를 변경했기때문에 메모리를 공유하는 원본도 변화가 생김\n",
    "\n",
    "plt.subplot(2, 2, 1) # 화면을 분할하여 출력, 2 * 2 = 4 개의 그래프로, 1번째 위치\n",
    "plt.imshow(face2) # 사진을 그래프로 출력\n",
    "\n",
    "plt.subplot(2, 2, 2) # 화면을 분할하여 출력, 2 * 2 = 4 개의 그래프로, 1번째 위치\n",
    "plt.imshow(f_view) # 사진을 그래프로 출력\n",
    "\n",
    "plt.subplot(2, 2, 4) # 화면을 분할하여 출력, 2 * 2 = 4 개의 그래프로, 4번째 위치\n",
    "plt.imshow(f_copy) # 사진을 그래프로 출력\n",
    "\n",
    "plt.show() # 윈도우 새 프래임 창에 그래프 전체를 띄운다.\n",
    "\n",
    "\n"
   ]
  },
  {
   "cell_type": "code",
   "execution_count": 83,
   "metadata": {},
   "outputs": [
    {
     "name": "stdout",
     "output_type": "stream",
     "text": [
      "start : 1590374469.804828\n",
      "end : 1590374469.8288167\n",
      "소요시간 : 0.023988723754882812\n"
     ]
    }
   ],
   "source": [
    "# 실습과제\n",
    "import time\n",
    "start = time.time()\n",
    "print('start :', start)\n",
    "total = 0\n",
    "\n",
    "for k in range(100000) :\n",
    "    total += k * 100\n",
    "\n",
    "end = time.time()\n",
    "print('end :', end)\n",
    "\n",
    "print('소요시간 :', end - start)"
   ]
  },
  {
   "cell_type": "code",
   "execution_count": 85,
   "metadata": {},
   "outputs": [
    {
     "name": "stdout",
     "output_type": "stream",
     "text": [
      "0\n",
      "[[0 0 0 ... 0 0 0]\n",
      " [0 0 0 ... 0 0 0]\n",
      " [0 0 0 ... 0 0 0]\n",
      " ...\n",
      " [0 0 0 ... 0 0 0]\n",
      " [0 0 0 ... 0 0 0]\n",
      " [0 0 0 ... 0 0 0]]\n",
      "[[0 0 0 ... 0 0 0]\n",
      " [0 0 0 ... 0 0 0]\n",
      " [0 0 0 ... 0 0 0]\n",
      " ...\n",
      " [0 0 0 ... 0 0 0]\n",
      " [0 0 0 ... 0 0 0]\n",
      " [0 0 0 ... 0 0 0]]\n",
      "[[0 0 0 ... 0 0 0]\n",
      " [0 0 0 ... 0 0 0]\n",
      " [0 0 0 ... 0 0 0]\n",
      " ...\n",
      " [0 0 0 ... 0 0 0]\n",
      " [0 0 0 ... 0 0 0]\n",
      " [0 0 0 ... 0 0 0]]\n"
     ]
    }
   ],
   "source": [
    "# face 3차원 데이터의 인덱싱\n",
    "# (768, 1024, 3) (y, x, rgb)\n",
    "print(face2[0][0][0])\n",
    "print(face2[:, :, 0]) # red만 추출\n",
    "print(face2[:, :, 1]) # green만 추출\n",
    "print(face2[:, :, 2]) # blue만 추출"
   ]
  },
  {
   "cell_type": "code",
   "execution_count": 89,
   "metadata": {},
   "outputs": [
    {
     "name": "stdout",
     "output_type": "stream",
     "text": [
      "[[[ 0  1  0]]\n",
      "\n",
      " [[ 3  4  0]]\n",
      "\n",
      " [[ 6  7  0]]\n",
      "\n",
      " [[ 9 10  0]]]\n",
      "[[[ 0  1  0]]\n",
      "\n",
      " [[ 3 10  0]]\n",
      "\n",
      " [[10 10  0]]\n",
      "\n",
      " [[10 10  0]]]\n"
     ]
    }
   ],
   "source": [
    "# 조건검색 (불린인덱스)\n",
    "data = np.arange(12).reshape(4, 1, 3)\n",
    "b = data.copy()\n",
    "# 3번째 열을 모두 0으로 변경 : (면, 행, 열)\n",
    "b[:, :, 2] = 0\n",
    "print(b)\n",
    "b[b > 3] = 10\n",
    "print(b)\n",
    "b[:, :, 2][b[:, :, 2] > 3] = 10"
   ]
  },
  {
   "cell_type": "markdown",
   "metadata": {},
   "source": [
    "## 배열 합치기\n",
    "* 수직(v, 행) 으로 합치기 : vstack(), row_stack(). concatenate(.., axis = 0)\n",
    "* 수평(h, 열) 으로 합치기 : hstack(), column_stack(). concatenate(.., axis = 1)"
   ]
  },
  {
   "cell_type": "code",
   "execution_count": 95,
   "metadata": {},
   "outputs": [
    {
     "name": "stdout",
     "output_type": "stream",
     "text": [
      "[[0 1 2]\n",
      " [3 4 5]\n",
      " [6 7 8]]\n",
      "[[ 2  3  4]\n",
      " [ 5  6  7]\n",
      " [ 8  9 10]]\n",
      "[[ 0  1  2]\n",
      " [ 3  4  5]\n",
      " [ 6  7  8]\n",
      " [ 2  3  4]\n",
      " [ 5  6  7]\n",
      " [ 8  9 10]] (6, 3)\n",
      "[[ 0  1  2]\n",
      " [ 3  4  5]\n",
      " [ 6  7  8]\n",
      " [ 2  3  4]\n",
      " [ 5  6  7]\n",
      " [ 8  9 10]] (6, 3)\n",
      "[[ 0  1  2]\n",
      " [ 3  4  5]\n",
      " [ 6  7  8]\n",
      " [ 2  3  4]\n",
      " [ 5  6  7]\n",
      " [ 8  9 10]] (6, 3)\n"
     ]
    }
   ],
   "source": [
    "# 수직으로 합치기\n",
    "a = np.arange(9).reshape(3, 3)\n",
    "print(a)\n",
    "b = a + 2\n",
    "print(b)\n",
    "\n",
    "r = np.vstack((a, b)) # 수직\n",
    "print(r, r.shape)\n",
    "\n",
    "c = np.row_stack((a, b)) # 행\n",
    "print(c, c.shape)\n",
    "\n",
    "x = np.concatenate((a, b), axis = 0) # axis = 0 행\n",
    "print(x, x.shape)"
   ]
  },
  {
   "cell_type": "code",
   "execution_count": 98,
   "metadata": {},
   "outputs": [
    {
     "name": "stdout",
     "output_type": "stream",
     "text": [
      "[[0 1 2]\n",
      " [3 4 5]\n",
      " [6 7 8]]\n",
      "[[ 0  2  4]\n",
      " [ 6  8 10]\n",
      " [12 14 16]]\n",
      "[[ 0  1  2  0  2  4]\n",
      " [ 3  4  5  6  8 10]\n",
      " [ 6  7  8 12 14 16]] (3, 6)\n",
      "[[ 0  1  2  0  2  4]\n",
      " [ 3  4  5  6  8 10]\n",
      " [ 6  7  8 12 14 16]] (3, 6)\n",
      "[[ 0  1  2  0  2  4]\n",
      " [ 3  4  5  6  8 10]\n",
      " [ 6  7  8 12 14 16]] (3, 6)\n"
     ]
    }
   ],
   "source": [
    "# 수평으로 합치기\n",
    "a = np.arange(9).reshape(3, 3)\n",
    "print(a)\n",
    "b = a * 2\n",
    "print(b)\n",
    "\n",
    "r = np.hstack((a, b)) # 수직\n",
    "print(r, r.shape)\n",
    "\n",
    "c = np.column_stack((a, b)) # 행\n",
    "print(c, c.shape)\n",
    "\n",
    "x = np.concatenate((a, b), axis = 1) # axis = 0 행\n",
    "print(x, x.shape)"
   ]
  },
  {
   "cell_type": "markdown",
   "metadata": {},
   "source": [
    "## 쪼개기\n",
    "* vsplit(배열, 행의 개수) : 수직, split(배열, 행의 개수, axis = 0)\n",
    "* hsplit(배열, 열의 개수) : 수평, split(배열, 행의 개수, axis = 1)"
   ]
  },
  {
   "cell_type": "code",
   "execution_count": 106,
   "metadata": {},
   "outputs": [
    {
     "name": "stdout",
     "output_type": "stream",
     "text": [
      "[[ 0  1  2]\n",
      " [ 3  4  5]\n",
      " [ 6  7  8]\n",
      " [ 9 10 11]]\n",
      "[array([[0, 1, 2]]), array([[3, 4, 5]]), array([[6, 7, 8]]), array([[ 9, 10, 11]])]\n",
      "[array([[0],\n",
      "       [3],\n",
      "       [6],\n",
      "       [9]]), array([[ 1],\n",
      "       [ 4],\n",
      "       [ 7],\n",
      "       [10]]), array([[ 2],\n",
      "       [ 5],\n",
      "       [ 8],\n",
      "       [11]])]\n"
     ]
    }
   ],
   "source": [
    "# 수평으로 합치기\n",
    "a = np.arange(12).reshape(4, 3)\n",
    "print(a)\n",
    "\n",
    "r = np.vsplit(a, 4) # 수직\n",
    "print(r)\n",
    "\n",
    "a = np.arange(12).reshape(4, 3)\n",
    "c = np.hsplit(a, 3) # 행\n",
    "print(c)"
   ]
  },
  {
   "cell_type": "markdown",
   "metadata": {},
   "source": [
    "## 배열의 연산 행렬의 연산, 선형대수\n",
    "[1] 배열과 상수간의 연산 : 배열<연산자> 상수, 상수<연산자>배열\n",
    "하나의 스칼라와 배열의 연산, 브로드 캐스팅에 해당"
   ]
  },
  {
   "cell_type": "code",
   "execution_count": 107,
   "metadata": {},
   "outputs": [
    {
     "name": "stdout",
     "output_type": "stream",
     "text": [
      "[[ 0  1  2  3]\n",
      " [ 4  5  6  7]\n",
      " [ 8  9 10 11]\n",
      " [12 13 14 15]] (4, 4)\n",
      "[[10 11 12 13]\n",
      " [14 15 16 17]\n",
      " [18 19 20 21]\n",
      " [22 23 24 25]]\n",
      "[[-10  -9  -8  -7]\n",
      " [ -6  -5  -4  -3]\n",
      " [ -2  -1   0   1]\n",
      " [  2   3   4   5]]\n",
      "[[  0  10  20  30]\n",
      " [ 40  50  60  70]\n",
      " [ 80  90 100 110]\n",
      " [120 130 140 150]]\n",
      "[[0.  0.1 0.2 0.3]\n",
      " [0.4 0.5 0.6 0.7]\n",
      " [0.8 0.9 1.  1.1]\n",
      " [1.2 1.3 1.4 1.5]]\n"
     ]
    }
   ],
   "source": [
    "A = np.arange(16).reshape(4, 4)\n",
    "print(A, A.shape)\n",
    "\n",
    "print(A + 10)\n",
    "print(A - 10)\n",
    "print(A * 10)\n",
    "print(A / 10)"
   ]
  },
  {
   "cell_type": "code",
   "execution_count": 111,
   "metadata": {},
   "outputs": [
    {
     "name": "stdout",
     "output_type": "stream",
     "text": [
      "inf\n",
      "nan\n"
     ]
    },
    {
     "name": "stderr",
     "output_type": "stream",
     "text": [
      "C:\\Users\\4855c\\anaconda3\\lib\\site-packages\\ipykernel_launcher.py:3: RuntimeWarning: divide by zero encountered in true_divide\n",
      "  This is separate from the ipykernel package so we can avoid doing imports until\n",
      "C:\\Users\\4855c\\anaconda3\\lib\\site-packages\\ipykernel_launcher.py:4: RuntimeWarning: invalid value encountered in true_divide\n",
      "  after removing the cwd from sys.path.\n"
     ]
    }
   ],
   "source": [
    "# 나누기\n",
    "# print(0 / 0) error\n",
    "print(np.divide(10, 0)) # inf\n",
    "print(np.divide(0, 0)) # nan : not a number"
   ]
  },
  {
   "cell_type": "markdown",
   "metadata": {},
   "source": [
    "## [2] element-wise 연산 : 배열의 요소간의 연산"
   ]
  },
  {
   "cell_type": "code",
   "execution_count": 113,
   "metadata": {},
   "outputs": [
    {
     "name": "stdout",
     "output_type": "stream",
     "text": [
      "[[0 1 2]\n",
      " [3 4 5]\n",
      " [6 7 8]]\n",
      "[[ 0 -1 -2]\n",
      " [-3 -4 -5]\n",
      " [-6 -7 -8]]\n",
      "[[0 0 0]\n",
      " [0 0 0]\n",
      " [0 0 0]]\n",
      "[[ 0  2  4]\n",
      " [ 6  8 10]\n",
      " [12 14 16]]\n",
      "[[  0  -1  -4]\n",
      " [ -9 -16 -25]\n",
      " [-36 -49 -64]]\n",
      "[[nan -1. -1.]\n",
      " [-1. -1. -1.]\n",
      " [-1. -1. -1.]]\n"
     ]
    },
    {
     "name": "stderr",
     "output_type": "stream",
     "text": [
      "C:\\Users\\4855c\\anaconda3\\lib\\site-packages\\ipykernel_launcher.py:11: RuntimeWarning: invalid value encountered in true_divide\n",
      "  # This is added back by InteractiveShellApp.init_path()\n"
     ]
    }
   ],
   "source": [
    "# shape이 같은 경우\n",
    "A = np.arange(9).reshape(3, 3)\n",
    "B = np.arange(9).reshape(3, 3) * -1\n",
    "\n",
    "print(A)\n",
    "print(B)\n",
    "\n",
    "print(A + B)\n",
    "print(A - B)\n",
    "print(A * B)\n",
    "print(A / B)"
   ]
  },
  {
   "cell_type": "code",
   "execution_count": 117,
   "metadata": {},
   "outputs": [
    {
     "name": "stdout",
     "output_type": "stream",
     "text": [
      "[[0 1]\n",
      " [2 3]\n",
      " [4 5]]\n",
      "[[1 2]]\n",
      "[[1 3]\n",
      " [3 5]\n",
      " [5 7]]\n",
      "[[-1 -1]\n",
      " [ 1  1]\n",
      " [ 3  3]]\n",
      "[[ 0  2]\n",
      " [ 2  6]\n",
      " [ 4 10]]\n",
      "[[0.  0.5]\n",
      " [2.  1.5]\n",
      " [4.  2.5]]\n"
     ]
    }
   ],
   "source": [
    "# shape이 다른 경우 브로드 캐스팅\n",
    "# 차원과 shape이 자동으로 조정된다.\n",
    "# 규칙1. 두 배열의 차원이 다르면\n",
    "# 더 작은 수의 차원을 가진 배열의 shape의 앞쪽(왼쪽)을 1로 채운다.\n",
    "# 규칙2. 차원이 같은 두 배열의 shape이 1인 배열을 다른 배열의 shpae과\n",
    "# 일치하도록 만든다.\n",
    "# 규칙3. 임의의 차원에서 크기가 일치하지 않고 1도 아니라면 오류\n",
    "A = np.arange(6).reshape(3, 2)\n",
    "B = np.arange(2).reshape(1, 2) + 1\n",
    "print(A) # (3,2)\n",
    "print(B) # (1, 2)\n",
    "\n",
    "print(A + B)\n",
    "print(A - B)\n",
    "print(A * B)\n",
    "print(A / B)"
   ]
  },
  {
   "cell_type": "code",
   "execution_count": 124,
   "metadata": {},
   "outputs": [
    {
     "name": "stdout",
     "output_type": "stream",
     "text": [
      "[[1.]\n",
      " [1.]\n",
      " [1.]] (3, 1)\n",
      "[0 1 2] (3,)\n",
      "[[1. 2. 3.]\n",
      " [1. 2. 3.]\n",
      " [1. 2. 3.]]\n",
      "[[ 1.  0. -1.]\n",
      " [ 1.  0. -1.]\n",
      " [ 1.  0. -1.]]\n",
      "[[0. 1. 2.]\n",
      " [0. 1. 2.]\n",
      " [0. 1. 2.]]\n",
      "[[inf 1.  0.5]\n",
      " [inf 1.  0.5]\n",
      " [inf 1.  0.5]]\n"
     ]
    },
    {
     "name": "stderr",
     "output_type": "stream",
     "text": [
      "C:\\Users\\4855c\\anaconda3\\lib\\site-packages\\ipykernel_launcher.py:9: RuntimeWarning: divide by zero encountered in true_divide\n",
      "  if __name__ == '__main__':\n"
     ]
    }
   ],
   "source": [
    "A = np.ones((3, 1))\n",
    "B = np.arange(3)\n",
    "print(A, A.shape)\n",
    "print(B, B.shape)\n",
    "\n",
    "print(A + B)\n",
    "print(A - B)\n",
    "print(A * B)\n",
    "print(A / B)"
   ]
  },
  {
   "cell_type": "markdown",
   "metadata": {},
   "source": [
    "## dot product : 내적 곱셈, 행렬"
   ]
  },
  {
   "cell_type": "code",
   "execution_count": 125,
   "metadata": {},
   "outputs": [
    {
     "name": "stdout",
     "output_type": "stream",
     "text": [
      "[[1 2 3]\n",
      " [4 5 6]] (2, 3)\n",
      "[[ 7  8]\n",
      " [ 9 10]\n",
      " [11 12]] (3, 2)\n",
      "[[ 58  64]\n",
      " [139 154]]\n"
     ]
    }
   ],
   "source": [
    "A = np.array([[1, 2, 3], [4, 5, 6]])\n",
    "B = np.array([[7, 8], [9, 10], [11, 12]])\n",
    "print(A, A.shape)\n",
    "print(B, B.shape)\n",
    "\n",
    "dot_product = np.dot(A, B)\n",
    "print(dot_product)\n",
    "# print(A * B) error"
   ]
  },
  {
   "cell_type": "code",
   "execution_count": 129,
   "metadata": {},
   "outputs": [
    {
     "name": "stdout",
     "output_type": "stream",
     "text": [
      "[[1 2 3]\n",
      " [4 5 6]] <class 'numpy.matrix'>\n",
      "[[ 7  8]\n",
      " [ 9 10]\n",
      " [11 12]] <class 'numpy.matrix'>\n",
      "[[ 58  64]\n",
      " [139 154]]\n"
     ]
    }
   ],
   "source": [
    "# matrix라는것도 있음.\n",
    "A = np.mat('1 2 3;4 5 6')\n",
    "B = np.mat('7 8;9 10;11 12')\n",
    "print(A, type(A))\n",
    "print(B, type(B))\n",
    "\n",
    "print(A*B)"
   ]
  },
  {
   "cell_type": "code",
   "execution_count": 134,
   "metadata": {},
   "outputs": [
    {
     "name": "stdout",
     "output_type": "stream",
     "text": [
      "[[1. 0. 0.]\n",
      " [0. 1. 0.]\n",
      " [0. 0. 1.]]\n",
      "[[ 2  4  6]\n",
      " [ 4  2  6]\n",
      " [10 -4 18]] <class 'numpy.matrix'>\n",
      "[[-0.41666667  0.66666667 -0.08333333]\n",
      " [ 0.08333333  0.16666667 -0.08333333]\n",
      " [ 0.25       -0.33333333  0.08333333]]\n",
      "[[ 1.00000000e+00 -2.22044605e-16  0.00000000e+00]\n",
      " [ 5.55111512e-17  1.00000000e+00  0.00000000e+00]\n",
      " [ 3.88578059e-16 -4.44089210e-16  1.00000000e+00]]\n",
      "[[ 0.00000000e+00 -2.22044605e-16  0.00000000e+00]\n",
      " [ 5.55111512e-17 -4.44089210e-16  0.00000000e+00]\n",
      " [ 3.88578059e-16 -4.44089210e-16  0.00000000e+00]]\n"
     ]
    }
   ],
   "source": [
    "# 역행렬 구하기\n",
    "# 행렬 A * A의 역행렬 --> 단위행렬(항등행렬, 대각선으로 1이고 나머지는 0인 행렬)\n",
    "print(np.eye(3))\n",
    "A = np.mat('2 4 6; 4 2 6; 10 -4 18')\n",
    "print(A, type(A))\n",
    "inverse = np.linalg.inv(A)\n",
    "print(inverse)\n",
    "print(A * inverse) # 단위행렬\n",
    "print(A * inverse - np.eye(3))"
   ]
  },
  {
   "cell_type": "code",
   "execution_count": 136,
   "metadata": {},
   "outputs": [
    {
     "name": "stdout",
     "output_type": "stream",
     "text": [
      "A : [[ 1 -2  1]\n",
      " [ 0  2 -8]\n",
      " [-4  5  9]]\n",
      "[ 0  8 -9]\n"
     ]
    }
   ],
   "source": [
    "# 선형방정식 풀이 : 선형시스템을 해석\n",
    "A = np.mat('1 -2 1; 0 2 -8; -4 5 9')\n",
    "print('A :', A)\n",
    "b = np.array([0, 8, -9])\n",
    "print(b)\n",
    "\n",
    "#연립방정식 : 아래같은것들\n",
    "# 1 * x0 - 2 * x1 + 1 * x2 = 0\n",
    "# 0 * x0 - 2 * x1 + 8 * x2 = 0\n",
    "# -4 * x0 - 5 * x1 + 9 * x2 = 0"
   ]
  },
  {
   "cell_type": "code",
   "execution_count": 137,
   "metadata": {},
   "outputs": [
    {
     "name": "stdout",
     "output_type": "stream",
     "text": [
      "Solution : [29. 16.  3.]\n",
      "Check\n",
      " [[ 0.  8. -9.]]\n"
     ]
    }
   ],
   "source": [
    "# dot(A, x) = b 가 나오게 해주는것\n",
    "\n",
    "x = np.linalg.solve(A, b)\n",
    "print('Solution :', x)\n",
    "print('Check\\n', np.dot(A, x))\n",
    "# A dot x ==> b\n",
    "# [[1 -2 1]]           [[29         [[0\n",
    "# [0 2 -8]        dot    16   ==>     8\n",
    "# [-4 5 9]]               3]]         9]]\n",
    "# (3, 3) * (3, 1) ==> (3, 1)"
   ]
  },
  {
   "cell_type": "code",
   "execution_count": 138,
   "metadata": {},
   "outputs": [
    {
     "name": "stdout",
     "output_type": "stream",
     "text": [
      "[[29.  11.5  7. ]\n",
      " [16.   6.5  4. ]\n",
      " [ 4.   1.5  1. ]]\n",
      "[[29. 16.  3.]]\n"
     ]
    }
   ],
   "source": [
    "# 역행렬을 사용하여  연립방정식의 답을 구하기\n",
    "# A dot x ==> b\n",
    "# x = A의 역행렬 * b\n",
    "inverse = np.linalg.inv(A)\n",
    "print(inverse)\n",
    "x = np.dot(inverse, b)\n",
    "print(x)"
   ]
  },
  {
   "cell_type": "code",
   "execution_count": 141,
   "metadata": {},
   "outputs": [
    {
     "name": "stdout",
     "output_type": "stream",
     "text": [
      "[0. 0. 0. 0. 0. 0. 0. 0. 0. 0.]\n",
      "[[0. 0. 0. 0.]\n",
      " [0. 0. 0. 0.]\n",
      " [0. 0. 0. 0.]]\n",
      "[1. 1. 1. 1. 1. 1. 1. 1. 1. 1.]\n",
      "[[1. 1. 1. 1.]\n",
      " [1. 1. 1. 1.]\n",
      " [1. 1. 1. 1.]]\n"
     ]
    }
   ],
   "source": [
    "# 기타 연산자 : zeros(), ones()\n",
    "zero_data = np.zeros(10)\n",
    "print(zero_data)\n",
    "\n",
    "zero_data = np.zeros((3, 4))\n",
    "print(zero_data)\n",
    "\n",
    "one_data = np.ones(10)\n",
    "print(one_data)\n",
    "\n",
    "one_data = np.ones((3, 4))\n",
    "print(one_data)"
   ]
  },
  {
   "cell_type": "code",
   "execution_count": 7,
   "metadata": {},
   "outputs": [],
   "source": [
    "# numpy 난수 발생\n",
    "# rand() : 실수\n",
    "# randint() : 정수\n",
    "# randn() : 실수, 정규 분포(standard normal distribution)\n",
    "\n",
    "# np.random.seed(5)  # 난수의 씨앗\n",
    "print(np.random.rand(3,4)) # 값이 0 ~ 1 사이, shape (3,4)\n",
    "print(np.random.randint(10,size=(3,4))) # 값이 0 ~ 10 사이, shape (3,4)\n",
    "print(np.random.randn(3,4)) # 정규 분포, 값이 0 ~ 1 사이, shape (3,4)"
   ]
  },
  {
   "cell_type": "code",
   "execution_count": null,
   "metadata": {},
   "outputs": [],
   "source": []
  }
 ],
 "metadata": {
  "kernelspec": {
   "display_name": "Python 3",
   "language": "python",
   "name": "python3"
  },
  "language_info": {
   "codemirror_mode": {
    "name": "ipython",
    "version": 3
   },
   "file_extension": ".py",
   "mimetype": "text/x-python",
   "name": "python",
   "nbconvert_exporter": "python",
   "pygments_lexer": "ipython3",
   "version": "3.7.6"
  }
 },
 "nbformat": 4,
 "nbformat_minor": 4
}
