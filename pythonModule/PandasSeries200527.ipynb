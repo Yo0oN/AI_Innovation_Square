{
 "cells": [
  {
   "cell_type": "code",
   "execution_count": 39,
   "metadata": {},
   "outputs": [],
   "source": [
    "import pandas as pd\n",
    "import numpy as np"
   ]
  },
  {
   "cell_type": "code",
   "execution_count": 4,
   "metadata": {},
   "outputs": [
    {
     "data": {
      "text/html": [
       "<div>\n",
       "<style scoped>\n",
       "    .dataframe tbody tr th:only-of-type {\n",
       "        vertical-align: middle;\n",
       "    }\n",
       "\n",
       "    .dataframe tbody tr th {\n",
       "        vertical-align: top;\n",
       "    }\n",
       "\n",
       "    .dataframe thead th {\n",
       "        text-align: right;\n",
       "    }\n",
       "</style>\n",
       "<table border=\"1\" class=\"dataframe\">\n",
       "  <thead>\n",
       "    <tr style=\"text-align: right;\">\n",
       "      <th></th>\n",
       "      <th>ename</th>\n",
       "      <th>dept</th>\n",
       "      <th>deptname</th>\n",
       "      <th>addr</th>\n",
       "      <th>phone</th>\n",
       "    </tr>\n",
       "  </thead>\n",
       "  <tbody>\n",
       "    <tr>\n",
       "      <th>0</th>\n",
       "      <td>kim</td>\n",
       "      <td>1</td>\n",
       "      <td>관리직</td>\n",
       "      <td>서울시</td>\n",
       "      <td>010-1111-1111</td>\n",
       "    </tr>\n",
       "    <tr>\n",
       "      <th>1</th>\n",
       "      <td>park</td>\n",
       "      <td>1</td>\n",
       "      <td>관리직</td>\n",
       "      <td>부산시</td>\n",
       "      <td>010-2222-2222</td>\n",
       "    </tr>\n",
       "    <tr>\n",
       "      <th>2</th>\n",
       "      <td>lee</td>\n",
       "      <td>2</td>\n",
       "      <td>영업직</td>\n",
       "      <td>광주시</td>\n",
       "      <td>010-3333-3333</td>\n",
       "    </tr>\n",
       "    <tr>\n",
       "      <th>3</th>\n",
       "      <td>min</td>\n",
       "      <td>2</td>\n",
       "      <td>영업직</td>\n",
       "      <td>광주시</td>\n",
       "      <td>010-4444-4444</td>\n",
       "    </tr>\n",
       "    <tr>\n",
       "      <th>4</th>\n",
       "      <td>song</td>\n",
       "      <td>3</td>\n",
       "      <td>개발직</td>\n",
       "      <td>광주시</td>\n",
       "      <td>010-5555-5555</td>\n",
       "    </tr>\n",
       "  </tbody>\n",
       "</table>\n",
       "</div>"
      ],
      "text/plain": [
       "  ename  dept deptname addr          phone\n",
       "0   kim     1      관리직  서울시  010-1111-1111\n",
       "1  park     1      관리직  부산시  010-2222-2222\n",
       "2   lee     2      영업직  광주시  010-3333-3333\n",
       "3   min     2      영업직  광주시  010-4444-4444\n",
       "4  song     3      개발직  광주시  010-5555-5555"
      ]
     },
     "execution_count": 4,
     "metadata": {},
     "output_type": "execute_result"
    }
   ],
   "source": [
    "# Series 객체\n",
    "# merge() 예제 리스트 데이터셋\n",
    "employee = [{'empno':1, 'ename':'kim', 'dept':1},\n",
    "            {'empno':2, 'ename':'lee', 'dept':2},\n",
    "            {'empno':3, 'ename':'park', 'dept':1},\n",
    "            {'empno':4, 'ename':'song', 'dept':3},\n",
    "            {'empno':5, 'ename':'min', 'dept':2} ]\n",
    "dept=[{'dept':1, 'deptname':'관리직'},\n",
    "      {'dept':2, 'deptname':'영업직'},\n",
    "      {'dept':3, 'deptname':'개발직'} ]\n",
    "info =[{'empno':1, 'addr':'서울시','phone':'010-1111-1111'},\n",
    "       {'empno':3, 'addr':'부산시','phone':'010-2222-2222'},\n",
    "       {'empno':2, 'addr':'광주시','phone':'010-3333-3333'},\n",
    "       {'empno':5, 'addr':'광주시','phone':'010-4444-4444'},\n",
    "       {'empno':4, 'addr':'광주시','phone':'010-5555-5555'} ]\n",
    "emp = pd.DataFrame(employee)\n",
    "dept = pd.DataFrame(dept)\n",
    "info = pd.DataFrame(info)\n",
    "\n",
    "m = pd.merge(emp, dept, how = 'inner') # 조건을 안줘도 공통된것을 알아서 찾아준다.\n",
    "m2 = pd.merge(m, info, how = 'inner')\n",
    "m2.drop(columns = ['empno'], inplace = True)\n",
    "m2"
   ]
  },
  {
   "cell_type": "code",
   "execution_count": 6,
   "metadata": {},
   "outputs": [
    {
     "name": "stdout",
     "output_type": "stream",
     "text": [
      "0     True\n",
      "1     True\n",
      "2    False\n",
      "3    False\n",
      "4    False\n",
      "Name: ename, dtype: bool <class 'pandas.core.series.Series'>\n"
     ]
    }
   ],
   "source": [
    "# str.contains()메서드를 사용하여 문자열의 조건 검색, 행을 추출\n",
    "m3 = m2['ename'].str.contains('k') # ename 열에서 k를 포함하는것만 Series로 추출\n",
    "print(m3, type(m3))"
   ]
  },
  {
   "cell_type": "code",
   "execution_count": 7,
   "metadata": {},
   "outputs": [
    {
     "data": {
      "text/html": [
       "<div>\n",
       "<style scoped>\n",
       "    .dataframe tbody tr th:only-of-type {\n",
       "        vertical-align: middle;\n",
       "    }\n",
       "\n",
       "    .dataframe tbody tr th {\n",
       "        vertical-align: top;\n",
       "    }\n",
       "\n",
       "    .dataframe thead th {\n",
       "        text-align: right;\n",
       "    }\n",
       "</style>\n",
       "<table border=\"1\" class=\"dataframe\">\n",
       "  <thead>\n",
       "    <tr style=\"text-align: right;\">\n",
       "      <th></th>\n",
       "      <th>ename</th>\n",
       "      <th>dept</th>\n",
       "      <th>deptname</th>\n",
       "      <th>addr</th>\n",
       "      <th>phone</th>\n",
       "    </tr>\n",
       "  </thead>\n",
       "  <tbody>\n",
       "    <tr>\n",
       "      <th>0</th>\n",
       "      <td>kim</td>\n",
       "      <td>1</td>\n",
       "      <td>관리직</td>\n",
       "      <td>서울시</td>\n",
       "      <td>010-1111-1111</td>\n",
       "    </tr>\n",
       "    <tr>\n",
       "      <th>1</th>\n",
       "      <td>park</td>\n",
       "      <td>1</td>\n",
       "      <td>관리직</td>\n",
       "      <td>부산시</td>\n",
       "      <td>010-2222-2222</td>\n",
       "    </tr>\n",
       "  </tbody>\n",
       "</table>\n",
       "</div>"
      ],
      "text/plain": [
       "  ename  dept deptname addr          phone\n",
       "0   kim     1      관리직  서울시  010-1111-1111\n",
       "1  park     1      관리직  부산시  010-2222-2222"
      ]
     },
     "execution_count": 7,
     "metadata": {},
     "output_type": "execute_result"
    }
   ],
   "source": [
    "m2[m3]"
   ]
  },
  {
   "cell_type": "code",
   "execution_count": 8,
   "metadata": {},
   "outputs": [
    {
     "name": "stdout",
     "output_type": "stream",
     "text": [
      "  ename  dept deptname addr          phone\n",
      "2   lee     2      영업직  광주시  010-3333-3333\n",
      "3   min     2      영업직  광주시  010-4444-4444\n",
      "  ename  dept deptname addr          phone\n",
      "2   lee     2      영업직  광주시  010-3333-3333\n",
      "3   min     2      영업직  광주시  010-4444-4444\n",
      "4  song     3      개발직  광주시  010-5555-5555\n"
     ]
    }
   ],
   "source": [
    "# deptname 이 영업직인 행만 추출\n",
    "m4 = m2['deptname'].str.contains('영업직')\n",
    "print(m2[m4])\n",
    "# 'addr'가 '광주시'인 행만 추출\n",
    "m4 = m2['addr'].str.contains('광주시')\n",
    "print(m2[m4])"
   ]
  },
  {
   "cell_type": "code",
   "execution_count": 17,
   "metadata": {},
   "outputs": [
    {
     "name": "stdout",
     "output_type": "stream",
     "text": [
      "150\n",
      "30.0\n",
      "30.0\n",
      "50\n",
      "10\n",
      "15.811388300841896\n",
      "250.0\n",
      "5\n",
      "count     5.000000\n",
      "mean     30.000000\n",
      "std      15.811388\n",
      "min      10.000000\n",
      "25%      20.000000\n",
      "50%      30.000000\n",
      "75%      40.000000\n",
      "max      50.000000\n",
      "Name: 영어, dtype: float64\n"
     ]
    }
   ],
   "source": [
    "score_table = {'영어' : [10, 20, 30, 40 ,50],\n",
    "               '수학' : [50, 40, 30, 20, 10]}\n",
    "df1 = pd.DataFrame(score_table)\n",
    "sr = df1['영어']\n",
    "print(sr.sum())\n",
    "print(sr.mean())\n",
    "print(sr.median())\n",
    "print(sr.max())\n",
    "print(sr.min())\n",
    "print(sr.std())\n",
    "print(sr.var())\n",
    "print(sr.count())\n",
    "print(sr.describe())"
   ]
  },
  {
   "cell_type": "markdown",
   "metadata": {},
   "source": [
    "### 누락 데이터(결측치, NaN, NaT) 다루기"
   ]
  },
  {
   "cell_type": "code",
   "execution_count": 46,
   "metadata": {},
   "outputs": [
    {
     "data": {
      "text/plain": [
       "Country                                                    0\n",
       "CountryID                                                  0\n",
       "Continent                                                  0\n",
       "Adolescent fertility rate (%)                             25\n",
       "Adult literacy rate (%)                                   71\n",
       "Gross national income per capita (PPP international $)    24\n",
       "Net primary school enrolment ratio female (%)             23\n",
       "Net primary school enrolment ratio male (%)               23\n",
       "Population (in thousands) total                           13\n",
       "dtype: int64"
      ]
     },
     "execution_count": 46,
     "metadata": {},
     "output_type": "execute_result"
    }
   ],
   "source": [
    "df = pd.read_csv('WHO_first9cols.csv')\n",
    "df.count()\n",
    "df2 = df[['Country', df.columns[-2]]]\n",
    "df2\n",
    "\n",
    "# print(pd.isnull(df2)) # 결측치는 True로 반환\n",
    "# print(pd.notnull(df2)) # 결측치는 False로 반환\n",
    "pd.isnull(df2).sum() # 결측치의 수\n",
    "pd.isnull(df).sum() # 결측치의 수"
   ]
  },
  {
   "cell_type": "code",
   "execution_count": 62,
   "metadata": {},
   "outputs": [],
   "source": [
    "# 결측치를 0으로 채우기\n",
    "# df2\n",
    "#df3 = df2.fillna(0)\n",
    "#df3\n",
    "df3 = df2.replace(np.nan, 0)\n",
    "# df3 = df.replace(np.nan, 0)\n",
    "# df3"
   ]
  },
  {
   "cell_type": "code",
   "execution_count": 63,
   "metadata": {},
   "outputs": [
    {
     "name": "stdout",
     "output_type": "stream",
     "text": [
      "       Net primary school enrolment ratio male (%)\n",
      "count                                   179.000000\n",
      "mean                                     85.698324\n",
      "std                                      15.451212\n",
      "min                                      11.000000\n",
      "25%                                      79.500000\n",
      "50%                                      90.000000\n",
      "75%                                      96.000000\n",
      "max                                     100.000000\n",
      "       Net primary school enrolment ratio male (%)\n",
      "count                                   202.000000\n",
      "mean                                     75.940594\n",
      "std                                      30.921123\n",
      "min                                       0.000000\n",
      "25%                                      73.000000\n",
      "50%                                      89.500000\n",
      "75%                                      96.000000\n",
      "max                                     100.000000\n"
     ]
    }
   ],
   "source": [
    "print(df2.describe())\n",
    "print(df3.describe())"
   ]
  },
  {
   "cell_type": "code",
   "execution_count": 66,
   "metadata": {},
   "outputs": [
    {
     "data": {
      "text/html": [
       "<div>\n",
       "<style scoped>\n",
       "    .dataframe tbody tr th:only-of-type {\n",
       "        vertical-align: middle;\n",
       "    }\n",
       "\n",
       "    .dataframe tbody tr th {\n",
       "        vertical-align: top;\n",
       "    }\n",
       "\n",
       "    .dataframe thead th {\n",
       "        text-align: right;\n",
       "    }\n",
       "</style>\n",
       "<table border=\"1\" class=\"dataframe\">\n",
       "  <thead>\n",
       "    <tr style=\"text-align: right;\">\n",
       "      <th></th>\n",
       "      <th>Country</th>\n",
       "      <th>Net primary school enrolment ratio male (%)</th>\n",
       "    </tr>\n",
       "  </thead>\n",
       "  <tbody>\n",
       "    <tr>\n",
       "      <th>0</th>\n",
       "      <td>Afghanistan</td>\n",
       "      <td>85.698324</td>\n",
       "    </tr>\n",
       "    <tr>\n",
       "      <th>1</th>\n",
       "      <td>Albania</td>\n",
       "      <td>94.000000</td>\n",
       "    </tr>\n",
       "    <tr>\n",
       "      <th>2</th>\n",
       "      <td>Algeria</td>\n",
       "      <td>96.000000</td>\n",
       "    </tr>\n",
       "    <tr>\n",
       "      <th>3</th>\n",
       "      <td>Andorra</td>\n",
       "      <td>83.000000</td>\n",
       "    </tr>\n",
       "    <tr>\n",
       "      <th>4</th>\n",
       "      <td>Angola</td>\n",
       "      <td>51.000000</td>\n",
       "    </tr>\n",
       "    <tr>\n",
       "      <th>...</th>\n",
       "      <td>...</td>\n",
       "      <td>...</td>\n",
       "    </tr>\n",
       "    <tr>\n",
       "      <th>197</th>\n",
       "      <td>Vietnam</td>\n",
       "      <td>96.000000</td>\n",
       "    </tr>\n",
       "    <tr>\n",
       "      <th>198</th>\n",
       "      <td>West Bank and Gaza</td>\n",
       "      <td>85.698324</td>\n",
       "    </tr>\n",
       "    <tr>\n",
       "      <th>199</th>\n",
       "      <td>Yemen</td>\n",
       "      <td>85.000000</td>\n",
       "    </tr>\n",
       "    <tr>\n",
       "      <th>200</th>\n",
       "      <td>Zambia</td>\n",
       "      <td>90.000000</td>\n",
       "    </tr>\n",
       "    <tr>\n",
       "      <th>201</th>\n",
       "      <td>Zimbabwe</td>\n",
       "      <td>87.000000</td>\n",
       "    </tr>\n",
       "  </tbody>\n",
       "</table>\n",
       "<p>202 rows × 2 columns</p>\n",
       "</div>"
      ],
      "text/plain": [
       "                Country  Net primary school enrolment ratio male (%)\n",
       "0           Afghanistan                                    85.698324\n",
       "1               Albania                                    94.000000\n",
       "2               Algeria                                    96.000000\n",
       "3               Andorra                                    83.000000\n",
       "4                Angola                                    51.000000\n",
       "..                  ...                                          ...\n",
       "197             Vietnam                                    96.000000\n",
       "198  West Bank and Gaza                                    85.698324\n",
       "199               Yemen                                    85.000000\n",
       "200              Zambia                                    90.000000\n",
       "201            Zimbabwe                                    87.000000\n",
       "\n",
       "[202 rows x 2 columns]"
      ]
     },
     "execution_count": 66,
     "metadata": {},
     "output_type": "execute_result"
    }
   ],
   "source": [
    "# 결측치를 평균으로 채움 : 평균에 영향이 없음.\n",
    "df4 = df2.fillna(df2.mean())\n",
    "df4"
   ]
  },
  {
   "cell_type": "code",
   "execution_count": 76,
   "metadata": {},
   "outputs": [
    {
     "data": {
      "text/plain": [
       "tv     10\n",
       "vtr    20\n",
       "dtype: int64"
      ]
     },
     "execution_count": 76,
     "metadata": {},
     "output_type": "execute_result"
    }
   ],
   "source": [
    "# Series 객체의 index 사용 및 결측치 제어\n",
    "index_table = ['tv', 'vtr', 'phone']\n",
    "sr = pd.Series([10, 20, 30], index = index_table)\n",
    "type(sr)\n",
    "sr\n",
    "sr.index\n",
    "r = sr.index.str.contains('v')\n",
    "sr[r]"
   ]
  },
  {
   "cell_type": "code",
   "execution_count": 85,
   "metadata": {},
   "outputs": [
    {
     "name": "stdout",
     "output_type": "stream",
     "text": [
      "tv          10.0\n",
      "vtr         20.0\n",
      "phone       30.0\n",
      "audio       40.0\n",
      "iron        50.0\n",
      "notebook    60.0\n",
      "aircon       NaN\n",
      "dtype: float64\n",
      "35.0\n",
      "tv          10.0\n",
      "vtr         20.0\n",
      "phone       30.0\n",
      "audio       40.0\n",
      "iron        50.0\n",
      "notebook    60.0\n",
      "aircon       0.0\n",
      "dtype: float64\n",
      "30.0\n",
      "tv          10.0\n",
      "vtr         20.0\n",
      "phone       30.0\n",
      "audio       40.0\n",
      "iron        50.0\n",
      "notebook    60.0\n",
      "aircon      35.0\n",
      "dtype: float64\n",
      "35.0\n"
     ]
    }
   ],
   "source": [
    "sr2 = sr.append(pd.Series([40, 50, 60], index = ['audio', 'iron', 'notebook']))\n",
    "sr2\n",
    "sr3 = sr2.append(pd.Series([np.nan], index = ['aircon']))\n",
    "print(sr3)\n",
    "print(sr3.mean())\n",
    "\n",
    "# l = np.array([np.nan, 1, 2, 3]) # np.nan과 연산 --> np.nan이 나옴\n",
    "# print(l)\n",
    "# print(l.mean()) Nan이 나옴\n",
    "\n",
    "sr4 = sr3.fillna(0)\n",
    "print(sr4)\n",
    "print(sr4.mean())\n",
    "sr5 = sr3.fillna(sr3.mean())\n",
    "print(sr5)\n",
    "print(sr5.mean())"
   ]
  },
  {
   "cell_type": "code",
   "execution_count": 89,
   "metadata": {},
   "outputs": [
    {
     "data": {
      "text/html": [
       "<div>\n",
       "<style scoped>\n",
       "    .dataframe tbody tr th:only-of-type {\n",
       "        vertical-align: middle;\n",
       "    }\n",
       "\n",
       "    .dataframe tbody tr th {\n",
       "        vertical-align: top;\n",
       "    }\n",
       "\n",
       "    .dataframe thead th {\n",
       "        text-align: right;\n",
       "    }\n",
       "</style>\n",
       "<table border=\"1\" class=\"dataframe\">\n",
       "  <thead>\n",
       "    <tr style=\"text-align: right;\">\n",
       "      <th></th>\n",
       "      <th>Weather</th>\n",
       "      <th>Food</th>\n",
       "      <th>Price</th>\n",
       "      <th>Number</th>\n",
       "    </tr>\n",
       "  </thead>\n",
       "  <tbody>\n",
       "    <tr>\n",
       "      <th>0</th>\n",
       "      <td>cold</td>\n",
       "      <td>soup</td>\n",
       "      <td>3.745401</td>\n",
       "      <td>8</td>\n",
       "    </tr>\n",
       "    <tr>\n",
       "      <th>1</th>\n",
       "      <td>hot</td>\n",
       "      <td>soup</td>\n",
       "      <td>9.507143</td>\n",
       "      <td>5</td>\n",
       "    </tr>\n",
       "    <tr>\n",
       "      <th>2</th>\n",
       "      <td>cold</td>\n",
       "      <td>icecream</td>\n",
       "      <td>7.319939</td>\n",
       "      <td>4</td>\n",
       "    </tr>\n",
       "    <tr>\n",
       "      <th>3</th>\n",
       "      <td>hot</td>\n",
       "      <td>chocolate</td>\n",
       "      <td>5.986585</td>\n",
       "      <td>8</td>\n",
       "    </tr>\n",
       "    <tr>\n",
       "      <th>4</th>\n",
       "      <td>cold</td>\n",
       "      <td>icecream</td>\n",
       "      <td>1.560186</td>\n",
       "      <td>8</td>\n",
       "    </tr>\n",
       "    <tr>\n",
       "      <th>5</th>\n",
       "      <td>hot</td>\n",
       "      <td>icecream</td>\n",
       "      <td>1.559945</td>\n",
       "      <td>3</td>\n",
       "    </tr>\n",
       "    <tr>\n",
       "      <th>6</th>\n",
       "      <td>cold</td>\n",
       "      <td>soup</td>\n",
       "      <td>0.580836</td>\n",
       "      <td>6</td>\n",
       "    </tr>\n",
       "  </tbody>\n",
       "</table>\n",
       "</div>"
      ],
      "text/plain": [
       "  Weather       Food     Price  Number\n",
       "0    cold       soup  3.745401       8\n",
       "1     hot       soup  9.507143       5\n",
       "2    cold   icecream  7.319939       4\n",
       "3     hot  chocolate  5.986585       8\n",
       "4    cold   icecream  1.560186       8\n",
       "5     hot   icecream  1.559945       3\n",
       "6    cold       soup  0.580836       6"
      ]
     },
     "execution_count": 89,
     "metadata": {},
     "output_type": "execute_result"
    }
   ],
   "source": [
    "from numpy.random import seed\n",
    "from numpy.random import rand\n",
    "from numpy.random import randint\n",
    "\n",
    "seed(42)\n",
    "\n",
    "df = pd.DataFrame({ 'Weather' : ['cold', 'hot', 'cold', 'hot', 'cold', 'hot', 'cold'],\n",
    "                   'Food' : ['soup', 'soup', 'icecream', 'chocolate', 'icecream', 'icecream', 'soup'],\n",
    "                   'Price' : 10 * rand(7), 'Number' : randint(1, 9, 7)})\n",
    "df"
   ]
  },
  {
   "cell_type": "code",
   "execution_count": 91,
   "metadata": {},
   "outputs": [
    {
     "name": "stdout",
     "output_type": "stream",
     "text": [
      "<pandas.core.groupby.generic.DataFrameGroupBy object at 0x0000011D00465248>\n",
      "1 cold \n",
      "   Weather      Food     Price  Number\n",
      "0    cold      soup  3.745401       8\n",
      "2    cold  icecream  7.319939       4\n",
      "4    cold  icecream  1.560186       8\n",
      "6    cold      soup  0.580836       6\n",
      "\n",
      " <class 'pandas.core.frame.DataFrame'>\n",
      "2 hot \n",
      "   Weather       Food     Price  Number\n",
      "1     hot       soup  9.507143       5\n",
      "3     hot  chocolate  5.986585       8\n",
      "5     hot   icecream  1.559945       3\n",
      "\n",
      " <class 'pandas.core.frame.DataFrame'>\n"
     ]
    }
   ],
   "source": [
    "weather_group = df.groupby('Weather')\n",
    "print(weather_group) # DataFrameGroupBy 객체\n",
    "\n",
    "# DataFrameGroupBy 객체에는 객체를 나눈 기준과, 나눠진 그룹이 들어있다.\n",
    "i = 0\n",
    "for name, group in weather_group :\n",
    "    i += 1\n",
    "    print(i, name, '\\n', group)\n",
    "    print('\\n', type(group))"
   ]
  },
  {
   "cell_type": "code",
   "execution_count": null,
   "metadata": {},
   "outputs": [],
   "source": []
  }
 ],
 "metadata": {
  "kernelspec": {
   "display_name": "Python 3",
   "language": "python",
   "name": "python3"
  },
  "language_info": {
   "codemirror_mode": {
    "name": "ipython",
    "version": 3
   },
   "file_extension": ".py",
   "mimetype": "text/x-python",
   "name": "python",
   "nbconvert_exporter": "python",
   "pygments_lexer": "ipython3",
   "version": "3.7.6"
  }
 },
 "nbformat": 4,
 "nbformat_minor": 4
}
