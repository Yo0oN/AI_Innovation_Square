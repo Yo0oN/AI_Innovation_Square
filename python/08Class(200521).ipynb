{
 "cells": [
  {
   "cell_type": "markdown",
   "metadata": {},
   "source": [
    "## Class\n",
    "\n",
    "파이썬 클래스 관련 용어\n",
    "1. class 클래스 : class 문으로 정의하며, 멤버와 메서드를 가지는 객체이다.\n",
    "    새로운 공간을 가지는 단위이다.\n",
    "2. class object 클래스 객체 : 클래스와 같은 뜻\n",
    "3. 클래스 인스턴스 : 클래스를 호출하여 생성된 객체\n",
    "4. 클래스 인스턴스 객체 = 클래스 인스턴스\n",
    "\n",
    "5. 멤버 : 클래스 혹은 클래스 인스턴스 공간에 정의된 변수\n",
    "6. 메서드 : 클래스 공간에 정의된 함수. def를 사용한다.\n",
    "7. 속성 Attribute : 멤버와 메서드 전체를 가리킨다."
   ]
  },
  {
   "cell_type": "code",
   "execution_count": 1,
   "metadata": {},
   "outputs": [
    {
     "name": "stdout",
     "output_type": "stream",
     "text": [
      "<class '__main__.Simple'>\n",
      "<__main__.Simple object at 0x0000024B982D5288>\n",
      "<__main__.Simple object at 0x0000024B9AEBB1C8>\n"
     ]
    }
   ],
   "source": [
    "# class 클래스이름 : \n",
    "#      속성...\n",
    "class Simple :\n",
    "    pass\n",
    "print(Simple)\n",
    "\n",
    "# 인스턴스 생성\n",
    "s1 = Simple()\n",
    "print(s1)\n",
    "\n",
    "s2 = Simple()\n",
    "print(s2)\n",
    "\n",
    "#인스턴스의 삭제(소멸)\n",
    "del s1"
   ]
  },
  {
   "cell_type": "code",
   "execution_count": 3,
   "metadata": {},
   "outputs": [
    {
     "name": "stdout",
     "output_type": "stream",
     "text": [
      "100\n",
      "[1, 2, 3, 4]\n",
      "Hi\n"
     ]
    }
   ],
   "source": [
    "class MyClass :\n",
    "    cl_mem = 100\n",
    "    cl_list = [1, 2, 3, 4]\n",
    "    a = 'Hi'\n",
    "\n",
    "print(MyClass.cl_mem)\n",
    "print(MyClass.cl_list)\n",
    "print(MyClass.a)"
   ]
  },
  {
   "cell_type": "code",
   "execution_count": 5,
   "metadata": {},
   "outputs": [
    {
     "name": "stdout",
     "output_type": "stream",
     "text": [
      "MyClass2 생성자 호출\n",
      "MyClass2 소멸자 호출\n",
      "0\n",
      "50\n",
      "get 호출\n",
      "50 [0] 0\n",
      "set 호출\n",
      "tet\n",
      "[1, 2, 3] tet 100\n"
     ]
    }
   ],
   "source": [
    "class MyClass2 :\n",
    "    def __init__(self) :\n",
    "        print('MyClass2 생성자 호출')\n",
    "        self.in_mem = 0\n",
    "        self.in_list = [0]\n",
    "        self.a = 0\n",
    "    \n",
    "    def set(self, var) :\n",
    "        print('set 호출')\n",
    "        print(var)\n",
    "        self.in_mem = var\n",
    "        self.in_list = [1, 2, 3]\n",
    "        self.a = 100\n",
    "    def get(self) :\n",
    "        print('get 호출')\n",
    "        return self.in_mem, self.in_list, self.a\n",
    "    \n",
    "    def __del__(self) : # 소멸자. 인스턴스 삭제시 호출 : 파이썬에서는 필요없음\n",
    "        print('MyClass2 소멸자 호출')\n",
    "        \n",
    "m2 = MyClass2()\n",
    "print(m2.in_mem)\n",
    "m2.in_mem = 50\n",
    "print(m2.in_mem)\n",
    "mem, l, a = m2.get()\n",
    "print(mem, l, a)\n",
    "m2.set('tet')\n",
    "print(m2.in_list, m2.in_mem, m2.a)"
   ]
  },
  {
   "cell_type": "code",
   "execution_count": 6,
   "metadata": {},
   "outputs": [],
   "source": [
    "# class 로 구현된 모듈을 import\n",
    "import calculator_Class as clc"
   ]
  },
  {
   "cell_type": "code",
   "execution_count": 7,
   "metadata": {},
   "outputs": [
    {
     "name": "stdout",
     "output_type": "stream",
     "text": [
      "Calc 생성자 호출\n"
     ]
    }
   ],
   "source": [
    "c1 = clc.Calc()"
   ]
  },
  {
   "cell_type": "code",
   "execution_count": null,
   "metadata": {},
   "outputs": [],
   "source": []
  }
 ],
 "metadata": {
  "kernelspec": {
   "display_name": "Python 3",
   "language": "python",
   "name": "python3"
  },
  "language_info": {
   "codemirror_mode": {
    "name": "ipython",
    "version": 3
   },
   "file_extension": ".py",
   "mimetype": "text/x-python",
   "name": "python",
   "nbconvert_exporter": "python",
   "pygments_lexer": "ipython3",
   "version": "3.7.6"
  }
 },
 "nbformat": 4,
 "nbformat_minor": 4
}
