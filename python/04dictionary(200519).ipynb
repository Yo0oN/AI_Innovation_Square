{
 "cells": [
  {
   "cell_type": "markdown",
   "metadata": {},
   "source": [
    "## 사전 (dict) : 가변형(mutable)\n",
    "### 순서가 없고 키와 값이 한 쌍으로 이루어진다.\n",
    "### 키는 immutable형이다.\n",
    "### {key:value, ...}"
   ]
  },
  {
   "cell_type": "code",
   "execution_count": 5,
   "metadata": {},
   "outputs": [
    {
     "name": "stdout",
     "output_type": "stream",
     "text": [
      "{'name': '홍길동', 'age': 20, 'phone': '010-1234-1234', 10: 500}\n",
      "<class 'dict'>\n"
     ]
    }
   ],
   "source": [
    "a = {}\n",
    "a['name'] = '홍길동'\n",
    "a['age'] = 20\n",
    "a['phone'] = '010-1234-1234'\n",
    "a[10] = 500\n",
    "print(a)\n",
    "print(type(a))"
   ]
  },
  {
   "cell_type": "code",
   "execution_count": 6,
   "metadata": {},
   "outputs": [
    {
     "data": {
      "text/plain": [
       "'홍길동'"
      ]
     },
     "execution_count": 6,
     "metadata": {},
     "output_type": "execute_result"
    }
   ],
   "source": [
    "# 요소 접근 : a[key]\n",
    "a['name']"
   ]
  },
  {
   "cell_type": "code",
   "execution_count": 7,
   "metadata": {},
   "outputs": [
    {
     "name": "stdout",
     "output_type": "stream",
     "text": [
      "{'name': '홍길동', 'age': 20, 'phone': '010-1234-1234', 10: 500, '주소': '서울시', '직업': '학생'}\n"
     ]
    }
   ],
   "source": [
    "# 요소추가\n",
    "a['주소'] = '서울시'\n",
    "a['직업'] = '학생'\n",
    "print(a)"
   ]
  },
  {
   "cell_type": "code",
   "execution_count": 9,
   "metadata": {},
   "outputs": [
    {
     "name": "stdout",
     "output_type": "stream",
     "text": [
      "dict_keys(['name', 'age', 'phone', 10, '주소', '직업'])\n",
      "<class 'dict_keys'>\n",
      "dict_values(['홍길동', 20, '010-1234-1234', 500, '서울시', '학생'])\n",
      "<class 'dict_values'>\n",
      "dict_items([('name', '홍길동'), ('age', 20), ('phone', '010-1234-1234'), (10, 500), ('주소', '서울시'), ('직업', '학생')])\n"
     ]
    }
   ],
   "source": [
    "print(a.keys()) # key 값만 dict_keys 타입으로 반환\n",
    "print(type(a.keys()))\n",
    "print(a.values()) # value 값만 dict_values 타입으로 반환\n",
    "print(type(a.values()))\n",
    "print(a.items())"
   ]
  },
  {
   "cell_type": "code",
   "execution_count": 10,
   "metadata": {},
   "outputs": [
    {
     "name": "stdout",
     "output_type": "stream",
     "text": [
      "None\n"
     ]
    }
   ],
   "source": [
    "print(a.get('hobby'))"
   ]
  },
  {
   "cell_type": "code",
   "execution_count": 12,
   "metadata": {},
   "outputs": [
    {
     "name": "stdout",
     "output_type": "stream",
     "text": [
      "농구\n",
      "{'name': '홍길동', 'age': 20, 'phone': '010-1234-1234', 10: 500, '주소': '서울시', '직업': '학생'}\n"
     ]
    }
   ],
   "source": [
    "print(a.get('hobby', '농구'))\n",
    "print(a)"
   ]
  },
  {
   "cell_type": "code",
   "execution_count": 15,
   "metadata": {},
   "outputs": [
    {
     "name": "stdout",
     "output_type": "stream",
     "text": [
      "dict_keys(['name', 'age', 'phone', 10, '주소', '직업'])\n"
     ]
    }
   ],
   "source": [
    "print(a.keys())"
   ]
  },
  {
   "cell_type": "code",
   "execution_count": 20,
   "metadata": {},
   "outputs": [
    {
     "name": "stdout",
     "output_type": "stream",
     "text": [
      "dict_keys(['name', 'age', 'phone', 10, '주소', '직업'])\n",
      "name\n",
      "age\n",
      "phone\n",
      "10\n",
      "주소\n",
      "직업\n"
     ]
    }
   ],
   "source": [
    "print(a.keys())\n",
    "for val in a.keys() :\n",
    "    print(val)"
   ]
  },
  {
   "cell_type": "code",
   "execution_count": 22,
   "metadata": {},
   "outputs": [
    {
     "name": "stdout",
     "output_type": "stream",
     "text": [
      "dict_items([('name', '홍길동'), ('age', 20), ('phone', '010-1234-1234'), (10, 500), ('주소', '서울시'), ('직업', '학생')]) <class 'dict'>\n"
     ]
    }
   ],
   "source": [
    "print(a.items(), type(a))"
   ]
  },
  {
   "cell_type": "code",
   "execution_count": 23,
   "metadata": {},
   "outputs": [
    {
     "name": "stdout",
     "output_type": "stream",
     "text": [
      "('name', '홍길동') <class 'tuple'>\n",
      "('age', 20) <class 'tuple'>\n",
      "('phone', '010-1234-1234') <class 'tuple'>\n",
      "(10, 500) <class 'tuple'>\n",
      "('주소', '서울시') <class 'tuple'>\n",
      "('직업', '학생') <class 'tuple'>\n"
     ]
    }
   ],
   "source": [
    "for val in a.items() :\n",
    "    print(val, type(val))"
   ]
  },
  {
   "cell_type": "code",
   "execution_count": 25,
   "metadata": {},
   "outputs": [
    {
     "name": "stdout",
     "output_type": "stream",
     "text": [
      "name 홍길동 <class 'str'> <class 'str'>\n",
      "age 20 <class 'str'> <class 'int'>\n",
      "phone 010-1234-1234 <class 'str'> <class 'str'>\n",
      "10 500 <class 'int'> <class 'int'>\n",
      "주소 서울시 <class 'str'> <class 'str'>\n",
      "직업 학생 <class 'str'> <class 'str'>\n"
     ]
    }
   ],
   "source": [
    "for key, val in a.items() :\n",
    "    print(key, val, type(key), type(val))"
   ]
  },
  {
   "cell_type": "code",
   "execution_count": 26,
   "metadata": {},
   "outputs": [
    {
     "name": "stdout",
     "output_type": "stream",
     "text": [
      "500\n",
      "{'name': '홍길동', 'age': 20, 'phone': '010-1234-1234', '주소': '서울시', '직업': '학생'}\n"
     ]
    }
   ],
   "source": [
    "# 해당 키와 값을 뽑은 후 제거\n",
    "ret = a.pop(10)\n",
    "print(ret)\n",
    "print(a)"
   ]
  },
  {
   "cell_type": "code",
   "execution_count": 27,
   "metadata": {},
   "outputs": [],
   "source": [
    "# 내부를 전부 제거하고 비운다.\n",
    "a.clear()"
   ]
  },
  {
   "cell_type": "code",
   "execution_count": 28,
   "metadata": {},
   "outputs": [
    {
     "name": "stdout",
     "output_type": "stream",
     "text": [
      "{}\n"
     ]
    }
   ],
   "source": [
    "print(a)"
   ]
  },
  {
   "cell_type": "code",
   "execution_count": 29,
   "metadata": {},
   "outputs": [
    {
     "name": "stdout",
     "output_type": "stream",
     "text": [
      "{0: 0, 2: 2, 4: 4, 6: 6, 8: 8, 10: 10}\n",
      "<class 'dict'>\n"
     ]
    }
   ],
   "source": [
    "# 사전 내장 dict comprehension\n",
    "a = {k : k for k in range(0, 11, 2)}\n",
    "print(a)\n",
    "print(type(a))"
   ]
  },
  {
   "cell_type": "code",
   "execution_count": 46,
   "metadata": {},
   "outputs": [
    {
     "name": "stdout",
     "output_type": "stream",
     "text": [
      "{'a': 1, 'b': 2}\n",
      "<class 'dict'>\n"
     ]
    }
   ],
   "source": [
    "b = {k : v for k, v in zip(['a', 'b'], [1, 2])}\n",
    "print(b)\n",
    "print(type(b))"
   ]
  },
  {
   "cell_type": "code",
   "execution_count": 51,
   "metadata": {},
   "outputs": [
    {
     "name": "stdout",
     "output_type": "stream",
     "text": [
      "0 a\n",
      "1 b\n",
      "2 c\n",
      "3 d\n",
      "4 e\n",
      "5 f\n",
      "6 g\n"
     ]
    }
   ],
   "source": [
    "s = 'abcdefg'\n",
    "for i, v in enumerate(s) :\n",
    "    print(i, v)"
   ]
  },
  {
   "cell_type": "code",
   "execution_count": null,
   "metadata": {},
   "outputs": [],
   "source": []
  }
 ],
 "metadata": {
  "kernelspec": {
   "display_name": "Python 3",
   "language": "python",
   "name": "python3"
  },
  "language_info": {
   "codemirror_mode": {
    "name": "ipython",
    "version": 3
   },
   "file_extension": ".py",
   "mimetype": "text/x-python",
   "name": "python",
   "nbconvert_exporter": "python",
   "pygments_lexer": "ipython3",
   "version": "3.7.6"
  }
 },
 "nbformat": 4,
 "nbformat_minor": 4
}
