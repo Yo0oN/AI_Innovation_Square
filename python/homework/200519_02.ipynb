{
 "cells": [
  {
   "cell_type": "markdown",
   "metadata": {},
   "source": [
    "## [튜플 실습과제]\n",
    "\n",
    "a=('a1','a2','a3','a4')\n",
    "\n",
    "b=('b1','b2','b3','b4')\n",
    "\n",
    "(1) q, w, e, r 변수에 튜플 a의 구성요소들을 차례대로 하나씩 넣으시오.(ex) q='a1'\n",
    "\n",
    "(2) a와 b를 더한 값을 c에 넣어보세요\n",
    "\n",
    "(3) c의 3번째 자리의 구성요소는 무엇인가?\n",
    "\n",
    "(4) c의 6번째 부터 끝까지의 구성요소는 무엇인가?\n",
    "\n",
    "(5) c의 처음부터 3번째의 구성요소는 무엇인가?\n",
    "\n",
    "(6) c의 4번째 구성요소 제거해 보세요\n",
    "    ==>에러 발생\n",
    "\n",
    "(7) c의 5번째 구성요소의 값을 'c1'로 수정해보세요\n",
    "   ==>에러 발생"
   ]
  },
  {
   "cell_type": "code",
   "execution_count": 8,
   "metadata": {},
   "outputs": [
    {
     "name": "stdout",
     "output_type": "stream",
     "text": [
      "1번 ('q', 'w', 'e', 'r')\n",
      "2번 ('q', 'w', 'e', 'r', 'b1', 'b2', 'b3', 'b4')\n",
      "3번 r\n",
      "4번 ('b3', 'b4')\n",
      "5번 ('q', 'w', 'e')\n",
      "6, 7번 x\n"
     ]
    }
   ],
   "source": [
    "a=('a1','a2','a3','a4')\n",
    "b=('b1','b2','b3','b4')\n",
    "\n",
    "# (1)\n",
    "a = 'q', 'w', 'e', 'r'\n",
    "print('1번', a)\n",
    "\n",
    "#(2)\n",
    "c = a + b\n",
    "print('2번', c)\n",
    "\n",
    "#(3)\n",
    "print('3번', c[3])\n",
    "\n",
    "#(4)\n",
    "print('4번', c[6:])\n",
    "\n",
    "#(5)\n",
    "print('5번', c[0:3])\n",
    "\n",
    "#(6, 7)\n",
    "print('6, 7번 x')"
   ]
  },
  {
   "cell_type": "markdown",
   "metadata": {},
   "source": [
    "## [ 딕셔너리 실습 ]\n",
    "\n",
    "srp={'가위':'보','바위':'가위','보':'바위'}\n",
    "\n",
    "(1) srp의 key list 생성\n",
    "\n",
    "(2) srp의 value list 생성\n",
    "\n",
    "(3) srp의 key와 value 의 한쌍으로된 리스트 생성\n",
    "\n",
    "(4) srp의 key '가위'에 해당하는 value 출력\n",
    "\n",
    "(5) srp의 value '바위'에 해당하는 key 출력\n",
    "    (if문이 사용되는 list 내장,items()함수 사용)\n",
    "\n",
    "(6) srp에 '찌':'빠', '묵':'찌', '빠':'묵' 추가\n",
    "\n",
    "(7) srp에 '보자기' 라는 키가 있는지 확인\n",
    "\n",
    "(8) srp의 key 와 value를 서로 바꾸어서 새로운 사전 srp2를 생성"
   ]
  },
  {
   "cell_type": "code",
   "execution_count": 29,
   "metadata": {},
   "outputs": [
    {
     "name": "stdout",
     "output_type": "stream",
     "text": [
      "1번 dict_keys(['가위', '바위', '보'])\n",
      "2번 dict_values(['보', '가위', '바위'])\n",
      "3번 dict_items([('가위', '보'), ('바위', '가위'), ('보', '바위')])\n",
      "4번 보\n",
      "5번 {'보'}\n",
      "6번 {'가위': '보', '바위': '가위', '보': '바위', '찌': '빠', '묵': '찌', '빠': '묵'}\n",
      "7번 없음\n",
      "8번 {'보': '가위', '가위': '바위', '바위': '보', '빠': '찌', '찌': '묵', '묵': '빠'}\n"
     ]
    }
   ],
   "source": [
    "srp={'가위':'보','바위':'가위','보':'바위'}\n",
    "print('1번', srp.keys())\n",
    "print('2번', srp.values())\n",
    "print('3번', srp.items())\n",
    "print('4번', srp['가위'])\n",
    "print('5번', {k for k, v in srp.items() if v == '바위'})\n",
    "srp['찌'] = '빠'\n",
    "srp['묵'] = '찌'\n",
    "srp['빠'] = '묵'\n",
    "print('6번', srp)\n",
    "print('7번', srp.get('보자기', '없음'))\n",
    "srp2 = {v : k for k, v in zip (srp.keys(), srp.values())}\n",
    "print('8번', srp2)"
   ]
  }
 ],
 "metadata": {
  "kernelspec": {
   "display_name": "Python 3",
   "language": "python",
   "name": "python3"
  },
  "language_info": {
   "codemirror_mode": {
    "name": "ipython",
    "version": 3
   },
   "file_extension": ".py",
   "mimetype": "text/x-python",
   "name": "python",
   "nbconvert_exporter": "python",
   "pygments_lexer": "ipython3",
   "version": "3.7.6"
  }
 },
 "nbformat": 4,
 "nbformat_minor": 4
}
