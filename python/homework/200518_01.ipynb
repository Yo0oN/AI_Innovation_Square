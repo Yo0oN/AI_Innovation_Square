{
 "cells": [
  {
   "cell_type": "markdown",
   "metadata": {},
   "source": [
    "## [숫자형 실습문제]\n",
    "\n",
    "\n",
    "1. 속도와 거리를 입력받아 시간을 계산하여 \n",
    "   출력하는 프로그램\n",
    "        거리 / 속도"
   ]
  },
  {
   "cell_type": "code",
   "execution_count": 2,
   "metadata": {},
   "outputs": [
    {
     "name": "stdout",
     "output_type": "stream",
     "text": [
      "거리를 입력해주세요 : 10\n",
      "속도를 입력해주세요 : 5\n",
      "정답 : 2.0 시간\n"
     ]
    }
   ],
   "source": [
    "dis = input('거리를 입력해주세요 : ')\n",
    "va = input('속도를 입력해주세요 : ')\n",
    "time = '{0} / {1}'.format(dis, va)\n",
    "result = eval(time)\n",
    "print('정답 :', result, '시간')"
   ]
  },
  {
   "cell_type": "markdown",
   "metadata": {},
   "source": [
    "2. 길이와 너비를 입력받아 면적과 둘레를 계산하여 출력하는 프로그램\n",
    "         면적  = 길이 * 너비\n",
    "\t \n",
    "  \t     둘레 = 길이 * 2 + 너비 * 2"
   ]
  },
  {
   "cell_type": "code",
   "execution_count": 4,
   "metadata": {},
   "outputs": [
    {
     "name": "stdout",
     "output_type": "stream",
     "text": [
      "길이를 입력해주세요. : 10\n",
      "너비를 입력해주세요. : 50\n",
      "길이를 입력해주세요. : 30\n",
      "너비를 입력해주세요. : 40\n",
      "면적 :  500\n",
      "둘레 :  140\n"
     ]
    }
   ],
   "source": [
    "length1 = input('길이를 입력해주세요. : ')\n",
    "height1 = input('너비를 입력해주세요. : ')\n",
    "area = '{0} * {1}'.format(length1, height1)\n",
    "\n",
    "length2 = input('길이를 입력해주세요. : ')\n",
    "height2 = input('너비를 입력해주세요. : ')\n",
    "circumference = '{0} * 2 + {1} * 2'.format(length2, height2)\n",
    "\n",
    "result_area = eval(area)\n",
    "result_circumference = eval(circumference)\n",
    "\n",
    "print('면적 : ', result_area)\n",
    "print('둘레 : ', result_circumference)"
   ]
  },
  {
   "cell_type": "markdown",
   "metadata": {},
   "source": [
    "3. 화씨 온도를 입력받아 섭씨 온도로 변환하는 프로그램\n",
    "        섭씨 = ( 화씨 - 32 ) / 1.8"
   ]
  },
  {
   "cell_type": "code",
   "execution_count": 5,
   "metadata": {},
   "outputs": [
    {
     "name": "stdout",
     "output_type": "stream",
     "text": [
      "화씨 온도를 입력해주세요. : 40\n",
      "섭씨 : 4.444444444444445\n"
     ]
    }
   ],
   "source": [
    "fahrenheit = input('화씨 온도를 입력해주세요. : ')\n",
    "celsius = '({} - 32) / 1.8'.format(fahrenheit)\n",
    "result_celsius = eval(celsius)\n",
    "\n",
    "print('섭씨 :', result_celsius)"
   ]
  },
  {
   "cell_type": "markdown",
   "metadata": {},
   "source": [
    "4. 두 수를 입력받아 덧셈, 뺄셈, 곱셈, 몫, 나머지를 출력하는 프로그램을 작성하세요"
   ]
  },
  {
   "cell_type": "code",
   "execution_count": 8,
   "metadata": {},
   "outputs": [
    {
     "name": "stdout",
     "output_type": "stream",
     "text": [
      "첫번째 숫자를 입력해주세요 : 5\n",
      "두번째 숫자를 입력해주세요 : 3\n",
      "덧셈 : 8\n",
      "뺄셈 : 2\n",
      "곱셈 : 15\n",
      "몫 : 1\n",
      "나머지 : 2\n"
     ]
    }
   ],
   "source": [
    "first = input('첫번째 숫자를 입력해주세요 : ')\n",
    "second = input('두번째 숫자를 입력해주세요 : ')\n",
    "\n",
    "add = '{} + {}'.format(first, second)\n",
    "print('덧셈 :', eval(add))\n",
    "\n",
    "subtraction = '{} - {}'.format(first, second)\n",
    "print('뺄셈 :', eval(subtraction))\n",
    "\n",
    "multiplication = '{} * {}'.format(first, second)\n",
    "print('곱셈 :', eval(multiplication))\n",
    "\n",
    "piece = '{} // {}'.format(first, second)\n",
    "print('몫 :', eval(piece))\n",
    "\n",
    "rest = '{} % {}'.format(first, second)\n",
    "print('나머지 :', eval(rest))"
   ]
  },
  {
   "cell_type": "code",
   "execution_count": null,
   "metadata": {},
   "outputs": [],
   "source": []
  }
 ],
 "metadata": {
  "kernelspec": {
   "display_name": "Python 3",
   "language": "python",
   "name": "python3"
  },
  "language_info": {
   "codemirror_mode": {
    "name": "ipython",
    "version": 3
   },
   "file_extension": ".py",
   "mimetype": "text/x-python",
   "name": "python",
   "nbconvert_exporter": "python",
   "pygments_lexer": "ipython3",
   "version": "3.7.6"
  }
 },
 "nbformat": 4,
 "nbformat_minor": 4
}
