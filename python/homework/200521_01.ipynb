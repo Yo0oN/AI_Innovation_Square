{
 "cells": [
  {
   "cell_type": "markdown",
   "metadata": {},
   "source": [
    "## [함수 과제 문제]\n",
    "\n",
    "*모두 아래와 같은 방식으로 함수를 구현한다\n",
    "-------------------------------------------------------\n",
    "def A(인자):     # 계산 함수\n",
    "    계산 처리 구현\n",
    "    return 반환값\n",
    "\n",
    "def B( ):         # 메인함수\n",
    "     수 = input()\n",
    "     계산함수 A( ) 호출\n",
    "     print(반환값) \n",
    "\n",
    "B( )  #  메인함수 호출\n",
    "-------------------------------------------------------\t"
   ]
  },
  {
   "cell_type": "markdown",
   "metadata": {},
   "source": [
    "1. 키와 몸무게를 입력받아 비만도를 구하고 결과를 출력하시요\n",
    "\n",
    "표준체중(kg)=(신장(cm)-100)×0.85\n",
    "\n",
    "비만도(%)=현재체중/표준체중(%)×100\n",
    "\n",
    "비만 등급을 4단계로 구한다\n",
    "\n",
    "비만도가90%이하 -->저체중\n",
    "\n",
    "90초과~110% --> 정상\n",
    "\n",
    "110초과~120% --> 과체중\n",
    "\n",
    "120%초과 -->  비만 \n",
    "\n",
    "(힌트)\n",
    "- calc_fat_ratio() 함수는 키와 몸무게를 인자로 받아 얻어진 비만도와 비만등급을 반환해준다\n",
    "- get_health_info() 함수는 사용자로 부터 키와 몸무게 값을 입력받고 calc_fat_ratio() 함수를 호출하여\n",
    "   반환된 결과를 format()을 사용 print()로 출력해준다"
   ]
  },
  {
   "cell_type": "code",
   "execution_count": 11,
   "metadata": {},
   "outputs": [
    {
     "name": "stdout",
     "output_type": "stream",
     "text": [
      "키를 입력해주세요. : 157\n",
      "몸무게를 입력해주세요. : 53\n",
      "비만도 : 48.449999999999996, 비만 등급 : 정상\n"
     ]
    }
   ],
   "source": [
    "# 비만도\n",
    "def calc_fat_ratio(height) :\n",
    "    return (height - 100) * 0.85\n",
    "# 비만 등급\n",
    "def get_health_info(fat_ratio, weight) :\n",
    "    fat = weight / fat_ratio * 100\n",
    "    health_info = ''\n",
    "    if fat <= 90 :\n",
    "        health_info = '저체중'\n",
    "    elif fat <= 110 :\n",
    "        health_info = '정상'\n",
    "    elif fat <= 120 :\n",
    "        health_info = '과체중'\n",
    "    else :\n",
    "        health_info = '비만'\n",
    "    return print('비만도 : {}, 비만 등급 : {}'.format(fat_ratio, health_info))\n",
    "\n",
    "height = int(input('키를 입력해주세요. : '))\n",
    "weight = int(input('몸무게를 입력해주세요. : '))\n",
    "\n",
    "get_health_info(calc_fat_ratio(height), weight)"
   ]
  },
  {
   "cell_type": "markdown",
   "metadata": {},
   "source": [
    "2. 1개의 점수를 입력받아 다음 5개의 등급을 출력해주는 코드를 구현하시요\n",
    "  사전(Dict)를 이용하여 구하시요\n",
    "\n",
    "90~100 --> 'A'\n",
    "\n",
    "80~89 --> 'B'\n",
    "\n",
    "70~79 --> 'C'\n",
    "\n",
    "60~69 --> 'D'\n",
    "\n",
    "나머지는 --> 'F'\n",
    "\n",
    "(힌트)\n",
    "- get_grade() 함수는 점수를 인자로 받아 얻어진 등급을 반환해준다\n",
    "- input_score_to_grade() 함수는 무한 루프를 돌면서 사용자로 부터 점수를 입력받아 get_grade() 함수를 호출하여\n",
    "  반환된 결과를 print()로 출력하고 만일 0보다 작은 값(-1)을 입력하면 프로그램이 종료된다"
   ]
  },
  {
   "cell_type": "code",
   "execution_count": 62,
   "metadata": {},
   "outputs": [
    {
     "name": "stdout",
     "output_type": "stream",
     "text": [
      "점수를 입력해주세요. : 5\n",
      "F\n",
      "점수를 입력해주세요. : 1\n",
      "F\n",
      "점수를 입력해주세요. : 57\n",
      "F\n",
      "점수를 입력해주세요. : 98\n",
      "A\n",
      "점수를 입력해주세요. : 100\n",
      "A\n",
      "점수를 입력해주세요. : 0\n",
      "F\n",
      "점수를 입력해주세요. : -1\n",
      "종료\n"
     ]
    }
   ],
   "source": [
    "score_dict = {90 : 'A', 80 : 'B', 70 : 'C', 60 : 'D', 0 : 'F'}\n",
    "\n",
    "def get_grade(score) :\n",
    "    while True :\n",
    "        score = int(input('점수를 입력해주세요. : '))\n",
    "        if score < 0 :\n",
    "            print('종료')\n",
    "            break\n",
    "        grade = [v for k, v in score_dict.items() if score >= k]\n",
    "        print(grade[0])\n",
    "get_grade(score)"
   ]
  },
  {
   "cell_type": "markdown",
   "metadata": {},
   "source": [
    "3. m(미터) 를 입력받아 마일로 변환하시요\n",
    "   (1 mile =  1.609 meter)\n",
    "    \n",
    "(힌트)\n",
    "- get_mile() 함수는 미터값을 인자로 받아 변환된 마일 값을 반환해준다\n",
    "- input_meter_to_mile() 함수는 무한 루프를 돌면서 사용자로 부터 미터를 입력받아 get_mile() 함수를 호출하여\n",
    "  반환된 결과를 print()로 출력하고 만일 0보다 작은 값(-1)을 입력하면 프로그램이 종료된다"
   ]
  },
  {
   "cell_type": "code",
   "execution_count": 42,
   "metadata": {},
   "outputs": [
    {
     "name": "stdout",
     "output_type": "stream",
     "text": [
      "미터를 입력해 주세요. : 5\n",
      "5 m = 3.107520198881293 mile\n",
      "미터를 입력해 주세요. : 3\n",
      "3 m = 1.8645121193287757 mile\n",
      "미터를 입력해 주세요. : -1\n",
      "종료\n"
     ]
    }
   ],
   "source": [
    "def get_mile(meter) :\n",
    "    mile = meter / 1.609\n",
    "    return mile\n",
    "\n",
    "def input_meter_to_mile() : \n",
    "    while True :\n",
    "        meter = int(input('미터를 입력해 주세요. : '))\n",
    "        if meter < 0 :\n",
    "            print('종료')\n",
    "            break\n",
    "        mile = get_mile(meter)\n",
    "        print(meter, 'm =', mile, 'mile')\n",
    "input_meter_to_mile()"
   ]
  },
  {
   "cell_type": "markdown",
   "metadata": {},
   "source": [
    "4. 화씨 를 입력받아 섭씨로 변환하시요\n",
    "   (celsius = ( fahrenheit - 32 ) / 1.8)\n",
    "\n",
    "(힌트)\n",
    "- get_celsius() 함수는 화씨 값을 인자로 받아 변환된 섭씨 값을 반환해준다\n",
    "- input_fahrenheit_to_celsius() 함수는 사용자로 부터 미터를 입력받아 get_celsius() 함수를 호출하여\n",
    "  반환된 결과를 format()을 사용 print()로 출력한다. 반복 루프로 구현하지 않고 1회만 수행한다"
   ]
  },
  {
   "cell_type": "code",
   "execution_count": 64,
   "metadata": {},
   "outputs": [
    {
     "name": "stdout",
     "output_type": "stream",
     "text": [
      "화씨를 입력해주세요. : 5\n",
      "화씨 5는 섭씨 -15.0입니다.\n"
     ]
    }
   ],
   "source": [
    "def get_celsius(fahrenheit) :\n",
    "    celsius = ( fahrenheit - 32 ) / 1.8\n",
    "    return celsius\n",
    "\n",
    "fahrenheit = int(input('화씨를 입력해주세요. : '))\n",
    "print('화씨 {}는 섭씨 {}입니다.'.format(fahrenheit, get_celsius(fahrenheit)))"
   ]
  },
  {
   "cell_type": "markdown",
   "metadata": {},
   "source": [
    "5. 하나의 정수를 입력받아 약수와 약수의 갯수를 구하는 함수를 구현하세요.\n",
    "   (어떤 정수 n을 자연수 k로 나누어 나머지가 0 일경우 k는 정수 n의 약수이다)\n",
    "\n",
    "(힌트)\n",
    "- get_divisor() 함수는 수를 인자로 받아 얻어진 약수를 리스트로 반환해준다\n",
    "- input_number_for_divisor() 함수는 무한 루프를 돌면서 사용자로 부터 정수를 입력받아 get_divisor() 함수를 호출하여\n",
    "  반환된 결과와 약수의 갯수(리스트의 크기)를 print()로 출력하고 만일 0을 입력하면 프로그램이 종료된다"
   ]
  },
  {
   "cell_type": "code",
   "execution_count": 3,
   "metadata": {},
   "outputs": [
    {
     "name": "stdout",
     "output_type": "stream",
     "text": [
      "숫자를 하나 입력해 주세요. 종료하시려면 0을 입력해 주세요.5\n",
      "5 의 약수 2 개 :  [1, 5]\n",
      "숫자를 하나 입력해 주세요. 종료하시려면 0을 입력해 주세요.3\n",
      "3 의 약수 2 개 :  [1, 3]\n",
      "숫자를 하나 입력해 주세요. 종료하시려면 0을 입력해 주세요.10\n",
      "10 의 약수 4 개 :  [1, 2, 5, 10]\n",
      "숫자를 하나 입력해 주세요. 종료하시려면 0을 입력해 주세요.50\n",
      "50 의 약수 6 개 :  [1, 2, 5, 10, 25, 50]\n",
      "숫자를 하나 입력해 주세요. 종료하시려면 0을 입력해 주세요.0\n",
      "종료.\n"
     ]
    }
   ],
   "source": [
    "def get_divisior(number) :\n",
    "    list = [k for k in range(1, number + 1) if number % k == 0]\n",
    "    return list\n",
    "\n",
    "def input_number_for_divisior() :\n",
    "    while True :\n",
    "        number = int(input('숫자를 하나 입력해 주세요. 종료하시려면 0을 입력해 주세요.'))\n",
    "        if number == 0 :\n",
    "            print('종료.')\n",
    "            break\n",
    "        list = get_divisior(number)\n",
    "        print(number,'의 약수', len(list),'개 : ',list)\n",
    "        \n",
    "input_number_for_divisior()"
   ]
  },
  {
   "cell_type": "code",
   "execution_count": null,
   "metadata": {},
   "outputs": [],
   "source": []
  }
 ],
 "metadata": {
  "kernelspec": {
   "display_name": "Python 3",
   "language": "python",
   "name": "python3"
  },
  "language_info": {
   "codemirror_mode": {
    "name": "ipython",
    "version": 3
   },
   "file_extension": ".py",
   "mimetype": "text/x-python",
   "name": "python",
   "nbconvert_exporter": "python",
   "pygments_lexer": "ipython3",
   "version": "3.7.6"
  }
 },
 "nbformat": 4,
 "nbformat_minor": 4
}
