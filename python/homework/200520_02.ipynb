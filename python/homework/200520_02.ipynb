{
 "cells": [
  {
   "cell_type": "markdown",
   "metadata": {},
   "source": [
    "## [ 제어문 실습과제 ]\n",
    " \n",
    "### <기본>\n",
    "1. 1~100을 1줄에 10개씩 출력\n",
    "   1.1 제어문만 이용하여 작성(시퀀스 자료형 사용안함)\n",
    "   1.2 시퀀스 자료형을 이용하여 작성(list 내장)\n",
    "\n",
    "2. 1~n 까지의 합을 출력 하는 프로그램(제어문 사용)\n",
    "\n",
    "3. 1~n 까지 짝수합과 홀수합을 출력하는 프로그램\n",
    "(제어문 사용)\n",
    "\n",
    "4. 1~n 까지 3의 배수와 5의 배수를 제외한 수의 합을 \n",
    "출력하는 프로그램(제어문 사용)\n",
    "\n",
    "5. 구구단표 출력 프로그램\n",
    "       5.1 제어문만 이용하여 작성(시퀀스 자료형 사용안함)\n",
    "       5.2 리스트와 제어문을 이용하여 작성       \n",
    "\n",
    "### <중급>\n",
    "6. -999가 입력 될 때 까지 정수를 입력 받은 후\n",
    "양수/음수 개수와 양수일 때 짝수/홀수의 개수를\n",
    "출력 하는 프로그램\n",
    "   \n",
    "7. 연산자 기호를 사전(dict)에 넣어 두고 두 개의 정수를 입력 받아서 사칙 연산하는 계산기 프로그램\n",
    "  (계산방식은 1이면 '+', 2이면 '-', 3이면 '*', 4이면 '/', eval()함수를 사용)"
   ]
  },
  {
   "cell_type": "code",
   "execution_count": null,
   "metadata": {},
   "outputs": [
    {
     "name": "stdout",
     "output_type": "stream",
     "text": [
      "1.1번\n",
      "1 2 3 4 5 6 7 8 9 10 \n",
      "11 12 13 14 15 16 17 18 19 20 \n",
      "21 22 23 24 25 26 27 28 29 30 \n",
      "31 32 33 34 35 36 37 38 39 40 \n",
      "41 42 43 44 45 46 47 48 49 50 \n",
      "51 52 53 54 55 56 57 58 59 60 \n",
      "61 62 63 64 65 66 67 68 69 70 \n",
      "71 72 73 74 75 76 77 78 79 80 \n",
      "81 82 83 84 85 86 87 88 89 90 \n",
      "91 92 93 94 95 96 97 98 99 100 \n",
      "\n",
      "1.2번\n",
      "2번\n"
     ]
    }
   ],
   "source": [
    "print('1.1번')\n",
    "for a in range(1, 101) :\n",
    "    if (a % 10 == 1 and a > 10) :\n",
    "        print()\n",
    "    print(a, end=' ')\n",
    "print('\\n')\n",
    "print('1.2번')\n",
    "l = [a for a in range(1, 101)]\n",
    "for x in l :\n",
    "    print('{}'.format(x), end=' ')\n",
    "    if x % 10 == 0 :\n",
    "        print()\n",
    "\n",
    "print('2번')\n",
    "result = 0\n",
    "for a in range(1, int(input('1보다 큰 숫자를 하나 입력해주세요.')) + 1) :\n",
    "    result += a\n",
    "print(result, '\\n')\n",
    "\n",
    "print('3번')\n",
    "result1 = 0\n",
    "result2 = 0\n",
    "for a in range(1, int(input('1보다 큰 숫자를 하나 입력해주세요.')) + 1) :\n",
    "    if (a % 2 == 0) :\n",
    "        result1 += a\n",
    "    else :\n",
    "        result2 += a\n",
    "print('짝수합 :', result1)\n",
    "print('홀수합 :', result2, '\\n')\n",
    "\n",
    "print('4번')\n",
    "result = 0\n",
    "for a in range(1, int(input('1보다 큰 숫자를 하나 입력해주세요.')) + 1) :\n",
    "    if not(a % 3 == 0 and a % 5 == 0) :\n",
    "        result += a\n",
    "print(result, '\\n')\n",
    "\n",
    "print('5.1번')\n",
    "for a in range(1, 10) :\n",
    "    for b in range(1, 10) :\n",
    "        print('{0} x {1} = {2}'.format(a, b, a * b), end=' ')\n",
    "    print()"
   ]
  },
  {
   "cell_type": "code",
   "execution_count": 26,
   "metadata": {},
   "outputs": [
    {
     "name": "stdout",
     "output_type": "stream",
     "text": [
      "6번\n",
      "정수를 하나 입력해 주세요. 종료하시려면 -999 를 입력해 주세요.-999\n",
      "양수 : 0 음수 : 0\n",
      "짝수 : 0 홀수 : 0 \n",
      "\n",
      "7번\n",
      "정수를 하나 입력해주세요.5\n",
      "다음 정수를 하나 입력해주세요.3\n",
      "5 + 3 = 3\n",
      "5 - 3 = 3\n",
      "5 * 3 = 3\n",
      "5 / 3 = 3\n"
     ]
    }
   ],
   "source": [
    "print('6번')\n",
    "result1 = 0 # 양수\n",
    "result2 = 0 #음수\n",
    "result3 = 0 # 양수일때 짝수\n",
    "result4 = 0 # 양수일때 홀수\n",
    "while True :\n",
    "    a = eval(input('정수를 하나 입력해 주세요. 종료하시려면 -999 를 입력해 주세요.'))\n",
    "    if (a == -999) :\n",
    "        break\n",
    "    elif (a < 0) :\n",
    "        result2 += 1\n",
    "    elif (a > 0 and a % 2 == 0) :\n",
    "        result1 += 1\n",
    "        result3 += 1\n",
    "    elif (a > 0 and a % 2 == 1) :\n",
    "        result1 += 1\n",
    "        result4 += 1\n",
    "print('양수 :', result1, '음수 :', result2)\n",
    "print('짝수 :', result3, '홀수 :', result4,'\\n')\n",
    "\n",
    "print('7번')\n",
    "dict = {1 : '+', 2 : '-', 3 : '*', 4 : '/'}\n",
    "a = input('정수를 하나 입력해주세요.')\n",
    "b = input('다음 정수를 하나 입력해주세요.')\n",
    "for c in dict.values() :\n",
    "    print('{1} {0} {2} = {3}'.format(c, a, b, eval(a, c, b)))"
   ]
  }
 ],
 "metadata": {
  "kernelspec": {
   "display_name": "Python 3",
   "language": "python",
   "name": "python3"
  },
  "language_info": {
   "codemirror_mode": {
    "name": "ipython",
    "version": 3
   },
   "file_extension": ".py",
   "mimetype": "text/x-python",
   "name": "python",
   "nbconvert_exporter": "python",
   "pygments_lexer": "ipython3",
   "version": "3.7.6"
  }
 },
 "nbformat": 4,
 "nbformat_minor": 4
}
