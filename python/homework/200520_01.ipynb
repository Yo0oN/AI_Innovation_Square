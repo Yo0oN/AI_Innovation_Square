{
 "cells": [
  {
   "cell_type": "markdown",
   "metadata": {},
   "source": [
    "## [집합실습]\n",
    "\n",
    "(1)    a = [1,2,3,4] 로 set s1을 생성하시오.\n",
    "\n",
    "       b = \"aabbccddeeff\"로 set s2를 생성하시오.\n",
    "\n",
    "(2) s1 에 a,b,c 를 추가하시오.\n",
    "\n",
    "(3) s2 에 1,2를 추가하시오.\n",
    "\n",
    "(4) s1과 s2의 교집합을 구하시오.(2가지 방법 모두 )\n",
    "\n",
    "(5) s1과 s2의 합집합을 구하시오.(2가지 방법 모두)\n",
    "\n",
    "(6) s1과 s2의 차집합을 구하시오.(기호)\n",
    "\n",
    "(7) s2와 s1의 차집합을 구하시오.(함수)\n",
    "\n",
    "(8) s2에서 1을 빼보세요.\n",
    "\n",
    "(9) s1과 s2의 대칭 차집합을 구하시오."
   ]
  },
  {
   "cell_type": "code",
   "execution_count": 6,
   "metadata": {},
   "outputs": [
    {
     "name": "stdout",
     "output_type": "stream",
     "text": [
      "1번\n",
      "{1, 2, 3, 4}\n",
      "{'b', 'e', 'd', 'f', 'c', 'a'}\n",
      "2번\n",
      "{1, 2, 3, 4, 'b', 'c', 'a'}\n",
      "3번\n",
      "{'b', 1, 2, 'e', 'd', 'f', 'c', 'a'}\n",
      "4번\n",
      "{1, 2, 'b', 'c', 'a'}\n",
      "{1, 2, 'b', 'c', 'a'}\n",
      "5번\n",
      "{1, 2, 3, 4, 'b', 'e', 'd', 'f', 'c', 'a'}\n",
      "{1, 2, 3, 4, 'b', 'e', 'd', 'f', 'c', 'a'}\n",
      "6번\n",
      "{3, 4}\n",
      "7번\n",
      "{3, 4}\n",
      "8번\n",
      "{'b', 2, 'e', 'd', 'f', 'c', 'a'}\n",
      "9번\n",
      "{1, 3, 4, 'e', 'd', 'f'}\n",
      "{'f', 1, 'd', 3, 4, 'e'}\n"
     ]
    }
   ],
   "source": [
    "a = [1, 2, 3, 4]\n",
    "b = \"aabbccddeeff\"\n",
    "\n",
    "print('1번')\n",
    "s1 = set(a)\n",
    "s2 = set(b)\n",
    "print(s1)\n",
    "print(s2)\n",
    "\n",
    "print('2번')\n",
    "s1.update(['a', 'b', 'c'])\n",
    "print(s1)\n",
    "\n",
    "print('3번')\n",
    "s2.update([1, 2])\n",
    "print(s2)\n",
    "\n",
    "print('4번')\n",
    "s3 = s1.intersection(s2)\n",
    "print(s3)\n",
    "s3 = s1 & s2\n",
    "print(s3)\n",
    "\n",
    "print('5번')\n",
    "s3 = s1.union(s2)\n",
    "print(s3)\n",
    "s3 = s1 | s2\n",
    "print(s3)\n",
    "\n",
    "print('6번')\n",
    "s3 = s1 - s2\n",
    "print(s3)\n",
    "\n",
    "print('7번')\n",
    "s3 = s1.difference(s2)\n",
    "print(s3)\n",
    "\n",
    "print('8번')\n",
    "s2.remove(1)\n",
    "print(s2)\n",
    "\n",
    "print('9번')\n",
    "s3 = s1.symmetric_difference(s2)\n",
    "print(s3)\n",
    "s3 = (s1 - s2) | (s2 - s1)\n",
    "print(s3)"
   ]
  },
  {
   "cell_type": "code",
   "execution_count": null,
   "metadata": {},
   "outputs": [],
   "source": []
  }
 ],
 "metadata": {
  "kernelspec": {
   "display_name": "Python 3",
   "language": "python",
   "name": "python3"
  },
  "language_info": {
   "codemirror_mode": {
    "name": "ipython",
    "version": 3
   },
   "file_extension": ".py",
   "mimetype": "text/x-python",
   "name": "python",
   "nbconvert_exporter": "python",
   "pygments_lexer": "ipython3",
   "version": "3.7.6"
  }
 },
 "nbformat": 4,
 "nbformat_minor": 4
}
