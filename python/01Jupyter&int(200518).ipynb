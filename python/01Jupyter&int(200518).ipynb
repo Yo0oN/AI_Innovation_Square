{
 "cells": [
  {
   "cell_type": "code",
   "execution_count": 1,
   "metadata": {},
   "outputs": [
    {
     "data": {
      "text/plain": [
       "'3.7.6 (default, Jan  8 2020, 20:23:39) [MSC v.1916 64 bit (AMD64)]'"
      ]
     },
     "execution_count": 1,
     "metadata": {},
     "output_type": "execute_result"
    }
   ],
   "source": [
    "import sys\n",
    "sys.version # shift + enter"
   ]
  },
  {
   "cell_type": "code",
   "execution_count": null,
   "metadata": {},
   "outputs": [],
   "source": [
    "a = 10\n",
    "b = 20\n",
    "c = a + b\n",
    "c"
   ]
  },
  {
   "cell_type": "markdown",
   "metadata": {},
   "source": [
    "## 1. 단축키\n",
    "* Cell - Cell Type - Markdown : 셀을 문서처럼 사용할 수 있음\n",
    "* shift + enter : 셀 실행 후 다음 셀로 이동\n",
    "* alt + enter : 셀 실행 후 다음에 셀을 추가\n",
    "* ctrl + / : 주석\n",
    "* Tab : 들여쓰기"
   ]
  },
  {
   "cell_type": "code",
   "execution_count": 25,
   "metadata": {},
   "outputs": [
    {
     "name": "stdout",
     "output_type": "stream",
     "text": [
      "12345\n",
      "100\n",
      "12445\n"
     ]
    }
   ],
   "source": [
    "a = 12345 # 정수형\n",
    "b = 100\n",
    "c = a + b\n",
    "print(a)\n",
    "print(b)\n",
    "print(c)"
   ]
  },
  {
   "cell_type": "markdown",
   "metadata": {},
   "source": [
    "## 2. 형변환"
   ]
  },
  {
   "cell_type": "code",
   "execution_count": 6,
   "metadata": {},
   "outputs": [
    {
     "name": "stdout",
     "output_type": "stream",
     "text": [
      "10\n",
      "10.0\n",
      "0xa\n",
      "0b1010\n",
      "0o12\n",
      "<class 'int'>\n"
     ]
    }
   ],
   "source": [
    "a = 10\n",
    "print(int(10)) # 형변환\n",
    "print(float(10))\n",
    "print(hex(10))\n",
    "print(bin(10))\n",
    "print(oct(10))\n",
    "print(type(a))"
   ]
  },
  {
   "cell_type": "code",
   "execution_count": 26,
   "metadata": {},
   "outputs": [
    {
     "name": "stdout",
     "output_type": "stream",
     "text": [
      "0x7fffb04ca530\n",
      "0x7fffb04ca670\n",
      "30 40\n",
      "0x7fffb04ca530\n",
      "30 30\n",
      "20 30\n",
      "0x7fffb04ca670\n",
      "20 40\n"
     ]
    }
   ],
   "source": [
    "a = 30\n",
    "print(hex(id(a)))\n",
    "b = 40\n",
    "print(hex(id(b)))\n",
    "print(a, b)\n",
    "b = a\n",
    "print(hex(id(b)))\n",
    "print(a, b)\n",
    "a = 20\n",
    "print(a, b)\n",
    "b = 40\n",
    "print(hex(id(b)))\n",
    "print(a, b)\n",
    "del b"
   ]
  },
  {
   "cell_type": "markdown",
   "metadata": {},
   "source": [
    "## 3. 사칙연산 +, -, *, /, %, //, **"
   ]
  },
  {
   "cell_type": "code",
   "execution_count": 23,
   "metadata": {},
   "outputs": [
    {
     "name": "stdout",
     "output_type": "stream",
     "text": [
      "10 <class 'int'> 3 <class 'int'>\n",
      "13 <class 'int'> 7 <class 'int'>\n",
      "30 <class 'int'> 3.3333333333333335 <class 'float'>\n",
      "1 <class 'int'> 3 <class 'int'>\n",
      "1000 <class 'int'>\n"
     ]
    }
   ],
   "source": [
    "### 사칙연산 +, -, *, /, %, //. **\n",
    "a = 10\n",
    "b = 3\n",
    "c = a + b\n",
    "d = a - b\n",
    "e = a * b\n",
    "f = a / b # float\n",
    "g = a % b\n",
    "h = a // b # int 몫만 나온다\n",
    "i = a ** b\n",
    "print(a, type(a), b, type(b))\n",
    "print(c, type(c), d, type(c))\n",
    "print(e, type(e), f, type(f))\n",
    "print(g, type(g), h, type(h))\n",
    "print(i, type(i))"
   ]
  },
  {
   "cell_type": "markdown",
   "metadata": {},
   "source": [
    "## 4. 표준 입출력"
   ]
  },
  {
   "cell_type": "code",
   "execution_count": 19,
   "metadata": {},
   "outputs": [
    {
     "name": "stdout",
     "output_type": "stream",
     "text": [
      "10\n",
      "10\n"
     ]
    },
    {
     "data": {
      "text/plain": [
       "str"
      ]
     },
     "execution_count": 19,
     "metadata": {},
     "output_type": "execute_result"
    }
   ],
   "source": [
    "### 표준 입출력\n",
    "a = input()\n",
    "print(a)\n",
    "type(a)"
   ]
  },
  {
   "cell_type": "code",
   "execution_count": 21,
   "metadata": {},
   "outputs": [
    {
     "name": "stdout",
     "output_type": "stream",
     "text": [
      "영어점수20\n",
      "수학점수10\n",
      "30\n"
     ]
    }
   ],
   "source": [
    "english = input('영어점수')\n",
    "math = input('수학점수')\n",
    "total = int(english) + int(math)\n",
    "print(total)"
   ]
  },
  {
   "cell_type": "code",
   "execution_count": 27,
   "metadata": {},
   "outputs": [
    {
     "name": "stdout",
     "output_type": "stream",
     "text": [
      "2010\n"
     ]
    }
   ],
   "source": [
    "print(english + math)"
   ]
  },
  {
   "cell_type": "code",
   "execution_count": 29,
   "metadata": {},
   "outputs": [
    {
     "name": "stdout",
     "output_type": "stream",
     "text": [
      "add = 9 sub = 2\n",
      "영어 : 20 수학 : 10 총점 : 30\n",
      "1 2\n",
      "3 4\n"
     ]
    }
   ],
   "source": [
    "print('add =', 4 + 5, 'sub =', 4 - 2)\n",
    "print('영어 :', int(english), '수학 :', int(math), '총점 :', total)\n",
    "print(1, 2); print(3, 4)"
   ]
  },
  {
   "cell_type": "code",
   "execution_count": 32,
   "metadata": {},
   "outputs": [
    {
     "name": "stdout",
     "output_type": "stream",
     "text": [
      "1 2 가 3 4\n"
     ]
    }
   ],
   "source": [
    "print(1, 2, end = ' 가 ')\n",
    "print(3 ,4)"
   ]
  },
  {
   "cell_type": "code",
   "execution_count": 33,
   "metadata": {},
   "outputs": [
    {
     "name": "stdout",
     "output_type": "stream",
     "text": [
      "5:6:7\n"
     ]
    }
   ],
   "source": [
    "print(5, 6, 7, sep = ':') # space 대신 : 를 구분자로 사용"
   ]
  },
  {
   "cell_type": "code",
   "execution_count": 41,
   "metadata": {},
   "outputs": [
    {
     "name": "stdout",
     "output_type": "stream",
     "text": [
      "영어수학 국어\n",
      "영어 120 국어수학\n"
     ]
    }
   ],
   "source": [
    "print('영어' + '수학', '국어')\n",
    "# print('영어' + 100) +를 이용하여 문자를 이어주려면 같은 타입이어야한다.\n",
    "print('영어', 100 + 20, '국어' + '수학')"
   ]
  },
  {
   "cell_type": "markdown",
   "metadata": {},
   "source": [
    "## 5. print formatting"
   ]
  },
  {
   "cell_type": "code",
   "execution_count": 44,
   "metadata": {},
   "outputs": [
    {
     "name": "stdout",
     "output_type": "stream",
     "text": [
      "int형 : 10\n",
      "float형 : 1.234000\n",
      "16진수 : 0xa\n",
      "문자열 : Hello Python\n"
     ]
    }
   ],
   "source": [
    "num_1 = 10\n",
    "num_2 = 1.234\n",
    "str_1 = 'Hello Python'\n",
    "\n",
    "# c언어와 유사한 방식\n",
    "print('int형 : %d' %num_1)\n",
    "print('float형 : %f' %num_2)\n",
    "print('16진수 : 0x%x' %num_1)\n",
    "print('문자열 : %s' %str_1)"
   ]
  },
  {
   "cell_type": "code",
   "execution_count": 50,
   "metadata": {},
   "outputs": [
    {
     "name": "stdout",
     "output_type": "stream",
     "text": [
      "1.234560\n",
      "apple / 7.77\n",
      "apple     |  7.770\n",
      "     apple|  7.770\n",
      "apple===== 7.770\n"
     ]
    }
   ],
   "source": [
    "# format() 함수\n",
    "print(format(1.23456, \"7.6f\"))\n",
    "print('{0} / {1}'.format('apple', 7.77))\n",
    "print('{0:<10}|{1:7.3f}'.format('apple',7.77))\n",
    "print('{0:>10}|{1:7.3f}'.format('apple',7.77))\n",
    "print('{0:=<10}|{1:7.3f}'.format('apple', 7.77))"
   ]
  },
  {
   "cell_type": "markdown",
   "metadata": {},
   "source": [
    "## 6. eval() 함수\n",
    "### 문자열로 표현된 파이썬 식(expression)을 인자로 받아 인터프리터가 번역해준다."
   ]
  },
  {
   "cell_type": "code",
   "execution_count": 53,
   "metadata": {},
   "outputs": [
    {
     "name": "stdout",
     "output_type": "stream",
     "text": [
      "<class 'str'>\n",
      "a+20\n",
      "<class 'int'>\n",
      "30\n",
      "<class 'int'>\n"
     ]
    }
   ],
   "source": [
    "a = 10\n",
    "express = 'a' + '+' + '20'\n",
    "print(type(express))\n",
    "print(express)\n",
    "b = eval(express)\n",
    "print(type(b))\n",
    "print(b)\n",
    "print(type(eval(express)))"
   ]
  },
  {
   "cell_type": "code",
   "execution_count": null,
   "metadata": {},
   "outputs": [],
   "source": []
  }
 ],
 "metadata": {
  "kernelspec": {
   "display_name": "Python 3",
   "language": "python",
   "name": "python3"
  },
  "language_info": {
   "codemirror_mode": {
    "name": "ipython",
    "version": 3
   },
   "file_extension": ".py",
   "mimetype": "text/x-python",
   "name": "python",
   "nbconvert_exporter": "python",
   "pygments_lexer": "ipython3",
   "version": "3.7.6"
  }
 },
 "nbformat": 4,
 "nbformat_minor": 4
}
