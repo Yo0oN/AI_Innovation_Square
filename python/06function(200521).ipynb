{
 "cells": [
  {
   "cell_type": "markdown",
   "metadata": {},
   "source": [
    "## 람다식 lambda\n",
    "### 한줄짜리 함수식, 식을 정의하는 순간 바로 함수 객체로 사용, 바로 인수로 전달할 수 있다. def 키워드를 사용하지 않는다.\n",
    "### 함수명 = lambda 인수1, 인수2, ... : 반환식"
   ]
  },
  {
   "cell_type": "code",
   "execution_count": 2,
   "metadata": {},
   "outputs": [
    {
     "name": "stdout",
     "output_type": "stream",
     "text": [
      "40\n",
      "30\n"
     ]
    }
   ],
   "source": [
    "def add (a, b) :\n",
    "    return a + b\n",
    "print(add (10, 30))\n",
    "\n",
    "add_new = lambda a, b : a + b\n",
    "print(add_new(10, 20))"
   ]
  },
  {
   "cell_type": "code",
   "execution_count": 7,
   "metadata": {},
   "outputs": [
    {
     "name": "stdout",
     "output_type": "stream",
     "text": [
      "[2, 5, 10, 17]\n",
      "[2, 5, 10, 17]\n",
      "[2, 5, 10, 17]\n"
     ]
    }
   ],
   "source": [
    "def f1(x) :\n",
    "    return x*x + 1\n",
    "\n",
    "def g (func) :\n",
    "    return [func(x) for x in range(1, 5)]\n",
    "\n",
    "print([f1(1), f1(2), f1(3), f1(4)])\n",
    "print([f1(x) for x in range(1, 5)])\n",
    "print(g(f1))"
   ]
  },
  {
   "cell_type": "code",
   "execution_count": 10,
   "metadata": {},
   "outputs": [
    {
     "name": "stdout",
     "output_type": "stream",
     "text": [
      "lambda : [2, 5, 10, 17]\n"
     ]
    }
   ],
   "source": [
    "# 람다 사용 보통은 이름없이 일회성으로 사용하는경우가 많다.\n",
    "print('lambda :', g(lambda x : x * x + 1))"
   ]
  },
  {
   "cell_type": "markdown",
   "metadata": {},
   "source": [
    "## 파이썬 내장 Built-in 함수\n",
    ": map() max() min() sum() round() id() hex() zip()"
   ]
  },
  {
   "cell_type": "code",
   "execution_count": 19,
   "metadata": {},
   "outputs": [
    {
     "name": "stdout",
     "output_type": "stream",
     "text": [
      "[2, 4, 6, 8, 10, 12]\n",
      "[2, 4, 6, 8, 10, 12]\n"
     ]
    }
   ],
   "source": [
    "# map() 함수\n",
    "def multi_two(x) :\n",
    "    return x * 2\n",
    "# 인자가 여러개라 어떤 함수를 계속 반복해서 사용하고 싶을 때, for대신 사용\n",
    "ret = map(multi_two, [1, 2, 3, 4, 5, 6])\n",
    "print(list(ret))\n",
    "ret = map(lambda x : x * 2, [1, 2, 3, 4, 5, 6])\n",
    "print(list(ret))"
   ]
  },
  {
   "cell_type": "code",
   "execution_count": 17,
   "metadata": {},
   "outputs": [
    {
     "name": "stdout",
     "output_type": "stream",
     "text": [
      "10\n",
      "a\n",
      "97\n",
      "4.124\n"
     ]
    }
   ],
   "source": [
    "print(abs(-10)) # 10 절대값을 반환\n",
    "print(chr(97)) # a 아스키코드를 문자로 변환\n",
    "print(ord('a')) # 97 문자를 아스키 코드로 변환\n",
    "print(round(4.12355, 3)) # 4.124 소수점 아래에서 반올림하여 해당 자리수까지 반환"
   ]
  },
  {
   "cell_type": "code",
   "execution_count": null,
   "metadata": {},
   "outputs": [],
   "source": []
  }
 ],
 "metadata": {
  "kernelspec": {
   "display_name": "Python 3",
   "language": "python",
   "name": "python3"
  },
  "language_info": {
   "codemirror_mode": {
    "name": "ipython",
    "version": 3
   },
   "file_extension": ".py",
   "mimetype": "text/x-python",
   "name": "python",
   "nbconvert_exporter": "python",
   "pygments_lexer": "ipython3",
   "version": "3.7.6"
  }
 },
 "nbformat": 4,
 "nbformat_minor": 4
}
