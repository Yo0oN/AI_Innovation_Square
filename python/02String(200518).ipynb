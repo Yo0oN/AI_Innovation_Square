{
 "cells": [
  {
   "cell_type": "markdown",
   "metadata": {},
   "source": [
    "## 문자열(String)"
   ]
  },
  {
   "cell_type": "code",
   "execution_count": 2,
   "metadata": {},
   "outputs": [
    {
     "name": "stdout",
     "output_type": "stream",
     "text": [
      "hello\n",
      "<class 'str'>\n",
      "good bye\n",
      "\n",
      "hello! this is a test code!!!\n",
      "2020.05.18\n",
      "\n",
      "this is a ...\n"
     ]
    }
   ],
   "source": [
    "str1 = 'hello'\n",
    "print(str1)\n",
    "print(type(str1))\n",
    "\n",
    "str2 = 'good bye'\n",
    "print(str2)\n",
    "\n",
    "str3 = \\\n",
    "'''\n",
    "hello! this is a test code!!!\n",
    "2020.05.18\n",
    "'''\n",
    "print(str3)\n",
    "\n",
    "str4 = \"this is a ...\"\n",
    "print(str4)"
   ]
  },
  {
   "cell_type": "markdown",
   "metadata": {},
   "source": [
    "## 문자열 indexing과 slicing"
   ]
  },
  {
   "cell_type": "code",
   "execution_count": 6,
   "metadata": {},
   "outputs": [
    {
     "name": "stdout",
     "output_type": "stream",
     "text": [
      "Life is too short, you need python\n",
      "L f i L\n",
      "n\n",
      "nohtyp deen uoy ,trohs oot si efiL\n"
     ]
    }
   ],
   "source": [
    "# indexing : 문자열의 요소에 접근하는 방법 a[index]\n",
    "# 왼쪽부터 0번부터 시작, 오른쪽부터 -1번 부터 시작\n",
    "a = 'Life is too short, you need python'\n",
    "print(a)\n",
    "print(a[0],a[2],a[True],a[False])\n",
    "print(a[-1])\n",
    "print(a[::-1])"
   ]
  },
  {
   "cell_type": "code",
   "execution_count": 5,
   "metadata": {},
   "outputs": [
    {
     "name": "stdout",
     "output_type": "stream",
     "text": [
      "hellobye\n",
      "hellohellohello\n"
     ]
    }
   ],
   "source": [
    "# slicing : a[start:end + 1:step]\n",
    "str1 = 'hello'\n",
    "str2 = 'bye'\n",
    "\n",
    "str3 = str1 + str2\n",
    "print(str3)\n",
    "str3 = str1 * 3\n",
    "print(str3)"
   ]
  },
  {
   "cell_type": "code",
   "execution_count": 11,
   "metadata": {},
   "outputs": [
    {
     "name": "stdout",
     "output_type": "stream",
     "text": [
      "<class 'str'>\n",
      "I LIKE PROGRAMMING, I LIKE SWIMMING\n",
      "i like programming, i like swimming\n",
      "i like programming, i like swimming\n",
      "I Like Programming, I Like Swimming\n"
     ]
    }
   ],
   "source": [
    "a = 'i like programming, i like swimming'\n",
    "print(type(a))\n",
    "b = a.upper()\n",
    "print(b)\n",
    "print(a)\n",
    "c = b.lower()\n",
    "print(c)\n",
    "\n",
    "d = c.title()\n",
    "print(d)"
   ]
  },
  {
   "cell_type": "code",
   "execution_count": 14,
   "metadata": {},
   "outputs": [
    {
     "name": "stdout",
     "output_type": "stream",
     "text": [
      "2\n",
      "27\n",
      "22\n"
     ]
    }
   ],
   "source": [
    "a = 'i like programming, i like swimming'\n",
    "print(a.count('like')) # 2 몇번 사용되었는지 알려준다.\n",
    "print(a.find('swim')) # 27 몇번째에 있는지 위치를 알려준다. 해당 값이 없다면 -1\n",
    "print(a.rfind('like')) # 22 역순으로 검색하여 인덱스 값을 반환.\n",
    "print(a.index('like')) # 27 find와 비슷한 일을 하지만 해당 값이 없다면 error"
   ]
  },
  {
   "cell_type": "code",
   "execution_count": 17,
   "metadata": {},
   "outputs": [
    {
     "name": "stdout",
     "output_type": "stream",
     "text": [
      "False\n"
     ]
    }
   ],
   "source": [
    "a = 'hello'\n",
    "print(a.startswith('hi!')) # False 해당 문자열로 시작하는지 알려준다."
   ]
  },
  {
   "cell_type": "code",
   "execution_count": 1,
   "metadata": {},
   "outputs": [
    {
     "name": "stdout",
     "output_type": "stream",
     "text": [
      "['spam', 'and', 'ham']\n",
      "['spam ', ' ham']\n"
     ]
    }
   ],
   "source": [
    "a = 'spam and ham'\n",
    "s = a.split()\n",
    "print(s)\n",
    "s2 = a.split('and')\n",
    "print(s2)"
   ]
  },
  {
   "cell_type": "code",
   "execution_count": 7,
   "metadata": {
    "scrolled": false
   },
   "outputs": [
    {
     "name": "stdout",
     "output_type": "stream",
     "text": [
      "a:b:c:d\n",
      "['spam', 'and', 'ham']\n",
      "spam#and#ham\n",
      "spam and ham\n"
     ]
    }
   ],
   "source": [
    "# 결합\n",
    "s = ':'.join('abcd')# 문자를 삽입해서 결합\n",
    "print(s)\n",
    "s1 = a.split()\n",
    "print(s1)\n",
    "s2 = '#'.join(s1)\n",
    "print(s2)\n",
    "s3 = ' '.join(s1)\n",
    "print(s3)"
   ]
  },
  {
   "cell_type": "code",
   "execution_count": 10,
   "metadata": {},
   "outputs": [
    {
     "name": "stdout",
     "output_type": "stream",
     "text": [
      "Your leg is too short\n"
     ]
    }
   ],
   "source": [
    "a = 'Life is too short'\n",
    "b = a.replace('Life', 'Your leg')\n",
    "print(b)"
   ]
  },
  {
   "cell_type": "code",
   "execution_count": 21,
   "metadata": {},
   "outputs": [
    {
     "name": "stdout",
     "output_type": "stream",
     "text": [
      "ㄱㄴㄷㄹㅁㅂㅅㅇㅈㅊㅋㅌㅍㅎㅏㅔㅣㅗㅜ\n",
      "gndrmbs_jcktphaeiou\n",
      "{12593: 103, 12596: 110, 12599: 100, 12601: 114, 12609: 109, 12610: 98, 12613: 115, 12615: 95, 12616: 106, 12618: 99, 12619: 107, 12620: 116, 12621: 112, 12622: 104, 12623: 97, 12628: 101, 12643: 105, 12631: 111, 12636: 117} <class 'dict'>\n",
      "miri_oja\n"
     ]
    }
   ],
   "source": [
    "# maketrans() / translate() 함수\n",
    "# 문자열을 mapping해서 변환된 결과를 반환\n",
    "a = 'ㄱㄴㄷㄹㅁㅂㅅㅇㅈㅊㅋㅌㅍㅎ'\n",
    "b = 'ㅏㅔㅣㅗㅜ'\n",
    "c = 'gndrmbs_jcktph'\n",
    "d = 'aeiou'\n",
    "kor = a + b\n",
    "eng = c + d\n",
    "print(kor)\n",
    "print(eng)\n",
    "translatetable = ''.maketrans(kor, eng)\n",
    "print(translate, type(translate))\n",
    "result = 'ㅁㅣㄹㅣㅇㅗㅈㅏ'.translate(translatetable)\n",
    "print(result)"
   ]
  },
  {
   "cell_type": "code",
   "execution_count": 14,
   "metadata": {},
   "outputs": [
    {
     "name": "stdout",
     "output_type": "stream",
     "text": [
      "가다나다가가\n",
      "\n"
     ]
    }
   ],
   "source": [
    "a = '가다나다가가'\n",
    "print(a)\n",
    "print(a.strip('가나다'))"
   ]
  },
  {
   "cell_type": "code",
   "execution_count": null,
   "metadata": {},
   "outputs": [],
   "source": []
  }
 ],
 "metadata": {
  "kernelspec": {
   "display_name": "Python 3",
   "language": "python",
   "name": "python3"
  },
  "language_info": {
   "codemirror_mode": {
    "name": "ipython",
    "version": 3
   },
   "file_extension": ".py",
   "mimetype": "text/x-python",
   "name": "python",
   "nbconvert_exporter": "python",
   "pygments_lexer": "ipython3",
   "version": "3.7.6"
  }
 },
 "nbformat": 4,
 "nbformat_minor": 4
}
