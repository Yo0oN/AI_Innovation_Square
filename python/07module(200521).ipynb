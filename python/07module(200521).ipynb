{
 "cells": [
  {
   "cell_type": "markdown",
   "metadata": {},
   "source": [
    "## 모듈\n",
    "### 함수, 변수 또는 클래스들을 모아두어 다른곳에서도 사용할 수 있게 모아둔 묶음 "
   ]
  },
  {
   "cell_type": "code",
   "execution_count": 1,
   "metadata": {},
   "outputs": [],
   "source": [
    "# def add (a, b) :\n",
    "#     print('add called!')\n",
    "#     return a + b\n",
    "\n",
    "# def divide (a, b) :\n",
    "#     print('divide called!')\n",
    "#     return a / b\n",
    "\n",
    "# def multiply (a, b) :\n",
    "#     print('multiply called!')\n",
    "#     return a * b\n",
    "\n",
    "# def sub (a, b) :\n",
    "#     print('sub called!')\n",
    "#     return a - b\n",
    "\n",
    "# if __neme__ == '__main__' :\n",
    "#     ret = add(10, 20)\n",
    "#     print(ret)\n",
    "#     ret = subtract(10, 20)\n",
    "#     print(ret)"
   ]
  },
  {
   "cell_type": "code",
   "execution_count": 5,
   "metadata": {},
   "outputs": [
    {
     "name": "stdout",
     "output_type": "stream",
     "text": [
      "add called!\n",
      "add called!\n",
      "divide called!\n",
      "divide called!\n"
     ]
    },
    {
     "data": {
      "text/plain": [
       "0.5"
      ]
     },
     "execution_count": 5,
     "metadata": {},
     "output_type": "execute_result"
    }
   ],
   "source": [
    "import calculator as cl\n",
    "from calculator import add\n",
    "from calculator import divide \n",
    "\n",
    "cl.add(10, 20)\n",
    "add(10, 20)\n",
    "cl.divide(10, 20)\n",
    "divide(10, 20)\n"
   ]
  },
  {
   "cell_type": "code",
   "execution_count": null,
   "metadata": {},
   "outputs": [],
   "source": []
  }
 ],
 "metadata": {
  "kernelspec": {
   "display_name": "Python 3",
   "language": "python",
   "name": "python3"
  },
  "language_info": {
   "codemirror_mode": {
    "name": "ipython",
    "version": 3
   },
   "file_extension": ".py",
   "mimetype": "text/x-python",
   "name": "python",
   "nbconvert_exporter": "python",
   "pygments_lexer": "ipython3",
   "version": "3.7.6"
  }
 },
 "nbformat": 4,
 "nbformat_minor": 4
}
